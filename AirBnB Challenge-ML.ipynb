{
 "cells": [
  {
   "cell_type": "markdown",
   "metadata": {
    "_uuid": "ab75db55228096902da89c0bd6a1d659d850e25f"
   },
   "source": [
    "### About the Dataset"
   ]
  },
  {
   "cell_type": "markdown",
   "metadata": {
    "_uuid": "d89b040e0ddf153fef580305db1af58171a16e47"
   },
   "source": [
    "We will be using the files: 'train_users.csv' and 'test_users.csv'.<br><br>\n",
    "The datasets consists of following columns:<br>\n",
    "1. id: user id\n",
    "2. date_account_created: the date of account creation\n",
    "3. timestamp_first_active: timestamp of the first activity, note that it can be earlier than date_account_created or date_first_booking because a user can search before signing up\n",
    "4. date_first_booking: date of first booking\n",
    "5. gender\n",
    "6. age\n",
    "7. signup_method\n",
    "8. signup_flow: the page a user came to signup up from\n",
    "9. language: international language preference\n",
    "10. affiliate_channel: what kind of paid marketing\n",
    "11. affiliate_provider: where the marketing is e.g. google, craigslist, other\n",
    "12. first_affiliate_tracked: whats the first marketing the user interacted with before the signing up\n",
    "13. signup_app\n",
    "14. first_device_type\n",
    "15. first_browser\n",
    "16. country_destination: this is the target variable you are to predict. This is not present in the test_users dataset.\n",
    "\n",
    "Note: There are 12 possible outcomes of the destination country: 'US', 'FR', 'CA', 'GB', 'ES', 'IT', 'PT', 'NL','DE', 'AU', 'NDF' (no destination found), and 'other'. Please note that 'NDF' is different from 'other' because 'other' means there was a booking, but is to a country not included in the list, while 'NDF' means there wasn't a booking."
   ]
  },
  {
   "cell_type": "markdown",
   "metadata": {
    "_uuid": "d75201c4cf33148a025d6ce47cefbc3e71f1815a"
   },
   "source": [
    "### Imported the required libraries"
   ]
  },
  {
   "cell_type": "code",
   "execution_count": 3,
   "metadata": {
    "_uuid": "37dd10614bdc12d19e60ea655fbf787ef66e9833"
   },
   "outputs": [],
   "source": [
    "import pandas as pd\n",
    "import numpy as np\n",
    "from pandas import DataFrame, Series\n",
    "\n",
    "import seaborn as sns\n",
    "import matplotlib.pyplot as plt\n",
    "%matplotlib inline\n",
    "\n",
    "import warnings\n",
    "warnings.filterwarnings(\"ignore\")"
   ]
  },
  {
   "cell_type": "markdown",
   "metadata": {
    "_uuid": "ed42e56031e7f05af3c827549b8057314aa7371e"
   },
   "source": [
    "### Loaded the dataset and checked the number of rows in the dataset"
   ]
  },
  {
   "cell_type": "code",
   "execution_count": 4,
   "metadata": {
    "_uuid": "d82207ca37257aa6e6572d6a9b52ff8b2df526a9"
   },
   "outputs": [
    {
     "name": "stdout",
     "output_type": "stream",
     "text": [
      "There are total 213451 rows in training dataset.\n",
      "There are total 62096 rows in test dataset.\n"
     ]
    }
   ],
   "source": [
    "df_train=pd.read_csv(\"Datasets/train_users_2.csv\")\n",
    "df_test=pd.read_csv(\"Datasets/test_users.csv\")\n",
    "print(str('There are total '+ str(df_train.shape[0])+' rows in training dataset.'))\n",
    "print(str('There are total '+ str(df_test.shape[0])+' rows in test dataset.'))"
   ]
  },
  {
   "cell_type": "markdown",
   "metadata": {
    "_uuid": "c45966638fe8f793dcc7865a468055da35c79a0a"
   },
   "source": [
    "We would be performing exploratory data analysis using the training dataset to understand the factors affecting the destination countries of users. But, before that we need to clean this training dataset.\n",
    "### Data Cleaning:\n",
    "#### Step 1: Check for Nulls"
   ]
  },
  {
   "cell_type": "code",
   "execution_count": 5,
   "metadata": {
    "_uuid": "8788eb81da84b0ee9c6e641db0e1b76bdabe3f09"
   },
   "outputs": [
    {
     "data": {
      "text/plain": [
       "id                              0\n",
       "date_account_created            0\n",
       "timestamp_first_active          0\n",
       "date_first_booking         124543\n",
       "gender                          0\n",
       "age                         87990\n",
       "signup_method                   0\n",
       "signup_flow                     0\n",
       "language                        0\n",
       "affiliate_channel               0\n",
       "affiliate_provider              0\n",
       "first_affiliate_tracked      6065\n",
       "signup_app                      0\n",
       "first_device_type               0\n",
       "first_browser                   0\n",
       "country_destination             0\n",
       "dtype: int64"
      ]
     },
     "execution_count": 5,
     "metadata": {},
     "output_type": "execute_result"
    }
   ],
   "source": [
    "df_train.isnull().sum()"
   ]
  },
  {
   "cell_type": "markdown",
   "metadata": {
    "_uuid": "9b4428b4db3089ebd387f26b8ee6b81b5892265a"
   },
   "source": [
    "We can see that age, date_first_booking and first_affliate tracked has NULL values."
   ]
  },
  {
   "cell_type": "markdown",
   "metadata": {
    "_uuid": "7747d02c660a83d4ee5780abfdca0db0b91391fc"
   },
   "source": [
    "#### Step 2: Check for NULL values which are in some other format"
   ]
  },
  {
   "cell_type": "markdown",
   "metadata": {
    "_uuid": "a579f85d7b323c715a2e3cd411a343a23aac19f1"
   },
   "source": [
    "In some cases, instead of NaN, the missing values are in the form of some other format like '-unknown-'. This can be identified by looking for unique values in each of the column as shown below:"
   ]
  },
  {
   "cell_type": "markdown",
   "metadata": {
    "_uuid": "dbedc1c3d58ced9658d47d2b18907ef0458f7ba0"
   },
   "source": [
    "a. Affiliate Channel:"
   ]
  },
  {
   "cell_type": "code",
   "execution_count": 6,
   "metadata": {
    "_uuid": "1b92a8d104458a1f62349f584f539c8a901c5fed"
   },
   "outputs": [
    {
     "data": {
      "text/plain": [
       "array(['direct', 'seo', 'other', 'sem-non-brand', 'content', 'sem-brand',\n",
       "       'remarketing', 'api'], dtype=object)"
      ]
     },
     "execution_count": 6,
     "metadata": {},
     "output_type": "execute_result"
    }
   ],
   "source": [
    "df_train.affiliate_channel.unique()"
   ]
  },
  {
   "cell_type": "markdown",
   "metadata": {
    "_uuid": "c0550e816ae242af94b45a7fd9d78a5f34092acc"
   },
   "source": [
    "b. Affiliate Provider:"
   ]
  },
  {
   "cell_type": "code",
   "execution_count": 7,
   "metadata": {
    "_uuid": "e82257f552fd228042ede1aba7c4f1794e09d1f7"
   },
   "outputs": [
    {
     "data": {
      "text/plain": [
       "array(['direct', 'google', 'other', 'craigslist', 'facebook', 'vast',\n",
       "       'bing', 'meetup', 'facebook-open-graph', 'email-marketing',\n",
       "       'yahoo', 'padmapper', 'gsp', 'wayn', 'naver', 'baidu', 'yandex',\n",
       "       'daum'], dtype=object)"
      ]
     },
     "execution_count": 7,
     "metadata": {},
     "output_type": "execute_result"
    }
   ],
   "source": [
    "df_train.affiliate_provider.unique()"
   ]
  },
  {
   "cell_type": "markdown",
   "metadata": {
    "_uuid": "97fb4771b286e0d24c55a02aa6aa72a914c09cc7"
   },
   "source": [
    "c. Age:"
   ]
  },
  {
   "cell_type": "code",
   "execution_count": 8,
   "metadata": {
    "_uuid": "ee687eb7088de14baca7d6e4de8d77a13d65837e"
   },
   "outputs": [
    {
     "data": {
      "text/plain": [
       "array([      nan, 3.800e+01, 5.600e+01, 4.200e+01, 4.100e+01, 4.600e+01,\n",
       "       4.700e+01, 5.000e+01, 3.600e+01, 3.700e+01, 3.300e+01, 3.100e+01,\n",
       "       2.900e+01, 3.000e+01, 4.000e+01, 2.600e+01, 3.200e+01, 3.500e+01,\n",
       "       5.900e+01, 4.900e+01, 4.400e+01, 3.400e+01, 2.800e+01, 1.900e+01,\n",
       "       5.300e+01, 5.200e+01, 3.900e+01, 5.700e+01, 2.500e+01, 5.400e+01,\n",
       "       6.900e+01, 6.300e+01, 4.300e+01, 5.500e+01, 6.500e+01, 5.800e+01,\n",
       "       6.100e+01, 1.800e+01, 5.000e+00, 2.700e+01, 4.500e+01, 6.000e+01,\n",
       "       4.800e+01, 5.100e+01, 6.400e+01, 7.200e+01, 7.000e+01, 6.700e+01,\n",
       "       7.300e+01, 2.014e+03, 1.040e+02, 6.600e+01, 1.050e+02, 6.800e+01,\n",
       "       9.500e+01, 2.400e+01, 9.400e+01, 7.500e+01, 7.900e+01, 6.200e+01,\n",
       "       2.013e+03, 1.600e+01, 4.000e+00, 2.300e+01, 1.010e+02, 9.800e+01,\n",
       "       7.600e+01, 7.400e+01, 8.700e+01, 9.200e+01, 1.150e+02, 7.100e+01,\n",
       "       8.400e+01, 1.070e+02, 7.800e+01, 9.900e+01, 1.100e+02, 1.020e+02,\n",
       "       8.200e+01, 7.700e+01, 2.200e+01, 8.900e+01, 2.100e+01, 1.500e+01,\n",
       "       2.000e+01, 1.030e+02, 2.000e+00, 1.700e+01, 8.600e+01, 9.700e+01,\n",
       "       8.100e+01, 9.000e+01, 8.800e+01, 8.000e+01, 1.000e+02, 9.100e+01,\n",
       "       1.060e+02, 8.300e+01, 8.500e+01, 1.080e+02, 1.130e+02, 1.090e+02,\n",
       "       9.300e+01, 9.600e+01, 1.949e+03, 1.110e+02, 1.931e+03, 1.932e+03,\n",
       "       1.120e+02, 1.928e+03, 1.000e+00, 1.936e+03, 1.933e+03, 1.935e+03,\n",
       "       1.925e+03, 1.952e+03, 1.500e+02, 1.927e+03, 1.320e+02, 1.953e+03,\n",
       "       1.942e+03, 1.995e+03, 2.008e+03, 1.924e+03, 1.929e+03, 1.947e+03,\n",
       "       1.938e+03, 1.926e+03])"
      ]
     },
     "execution_count": 8,
     "metadata": {},
     "output_type": "execute_result"
    }
   ],
   "source": [
    "df_train.age.unique()"
   ]
  },
  {
   "cell_type": "markdown",
   "metadata": {
    "_uuid": "c52f24a3152108c2fc6743c00239e397869aeb0a"
   },
   "source": [
    "d. Country destination:"
   ]
  },
  {
   "cell_type": "code",
   "execution_count": 9,
   "metadata": {
    "_uuid": "beee852957684669ab789a818e4e7bf802f3c39b"
   },
   "outputs": [
    {
     "data": {
      "text/plain": [
       "array(['NDF', 'US', 'other', 'FR', 'CA', 'GB', 'ES', 'IT', 'PT', 'NL',\n",
       "       'DE', 'AU'], dtype=object)"
      ]
     },
     "execution_count": 9,
     "metadata": {},
     "output_type": "execute_result"
    }
   ],
   "source": [
    "df_train.country_destination.unique()"
   ]
  },
  {
   "cell_type": "markdown",
   "metadata": {
    "_uuid": "d74195c713b4c6e49e0c3063677047559920bfc7"
   },
   "source": [
    "e. Date Account Created:"
   ]
  },
  {
   "cell_type": "code",
   "execution_count": 10,
   "metadata": {
    "_uuid": "c61bf14d03f2986c50141d903adcdd5a1e8f2886"
   },
   "outputs": [
    {
     "data": {
      "text/plain": [
       "array(['2010-06-28', '2011-05-25', '2010-09-28', ..., '2014-06-27',\n",
       "       '2014-06-29', '2014-06-30'], dtype=object)"
      ]
     },
     "execution_count": 10,
     "metadata": {},
     "output_type": "execute_result"
    }
   ],
   "source": [
    "df_train.date_account_created.unique()"
   ]
  },
  {
   "cell_type": "markdown",
   "metadata": {
    "_uuid": "d6700ce1a446b5374825a2db270710f4d02c3de1"
   },
   "source": [
    "f. Date First Booking:"
   ]
  },
  {
   "cell_type": "code",
   "execution_count": 11,
   "metadata": {
    "_uuid": "abd3d146ba845e18fd1031c45e30d4ab111a6864"
   },
   "outputs": [
    {
     "data": {
      "text/plain": [
       "array([nan, '2010-08-02', '2012-09-08', ..., '2015-06-25', '2015-06-29',\n",
       "       '2015-06-28'], dtype=object)"
      ]
     },
     "execution_count": 11,
     "metadata": {},
     "output_type": "execute_result"
    }
   ],
   "source": [
    "df_train.date_first_booking.unique()"
   ]
  },
  {
   "cell_type": "markdown",
   "metadata": {
    "_uuid": "4bf726c8bc749ce773ac791701fc0780eb493015"
   },
   "source": [
    "g. First Affiliate Tracked "
   ]
  },
  {
   "cell_type": "code",
   "execution_count": 12,
   "metadata": {
    "_uuid": "a93c8538146294b892d4fac2ae796ef705b37ae5"
   },
   "outputs": [
    {
     "data": {
      "text/plain": [
       "array(['untracked', 'omg', nan, 'linked', 'tracked-other', 'product',\n",
       "       'marketing', 'local ops'], dtype=object)"
      ]
     },
     "execution_count": 12,
     "metadata": {},
     "output_type": "execute_result"
    }
   ],
   "source": [
    "df_train.first_affiliate_tracked.unique()"
   ]
  },
  {
   "cell_type": "markdown",
   "metadata": {
    "_uuid": "6711c9ac9982424c0fbb35205b0d960bc1980849"
   },
   "source": [
    "h. First Browser"
   ]
  },
  {
   "cell_type": "code",
   "execution_count": 13,
   "metadata": {
    "_uuid": "60166d61346bc98382ca16108479f64dbd3c13e0"
   },
   "outputs": [
    {
     "data": {
      "text/plain": [
       "array(['Chrome', 'IE', 'Firefox', 'Safari', '-unknown-', 'Mobile Safari',\n",
       "       'Chrome Mobile', 'RockMelt', 'Chromium', 'Android Browser',\n",
       "       'AOL Explorer', 'Palm Pre web browser', 'Mobile Firefox', 'Opera',\n",
       "       'TenFourFox', 'IE Mobile', 'Apple Mail', 'Silk', 'Camino', 'Arora',\n",
       "       'BlackBerry Browser', 'SeaMonkey', 'Iron', 'Sogou Explorer',\n",
       "       'IceWeasel', 'Opera Mini', 'SiteKiosk', 'Maxthon',\n",
       "       'Kindle Browser', 'CoolNovo', 'Conkeror', 'wOSBrowser',\n",
       "       'Google Earth', 'Crazy Browser', 'Mozilla', 'OmniWeb',\n",
       "       'PS Vita browser', 'NetNewsWire', 'CometBird', 'Comodo Dragon',\n",
       "       'Flock', 'Pale Moon', 'Avant Browser', 'Opera Mobile',\n",
       "       'Yandex.Browser', 'TheWorld Browser', 'SlimBrowser', 'Epic',\n",
       "       'Stainless', 'Googlebot', 'Outlook 2007', 'IceDragon'],\n",
       "      dtype=object)"
      ]
     },
     "execution_count": 13,
     "metadata": {},
     "output_type": "execute_result"
    }
   ],
   "source": [
    "df_train.first_browser.unique()"
   ]
  },
  {
   "cell_type": "markdown",
   "metadata": {
    "_uuid": "c8e7b4ba6d8d0cfd3dd20694c0babb6bd3ddb686"
   },
   "source": [
    "###### Here, in browsers list, we can see a value as '-unknown-'."
   ]
  },
  {
   "cell_type": "markdown",
   "metadata": {
    "_uuid": "e88d39bca0ff572b6ca6a52ce686c75d1852e1fc"
   },
   "source": [
    "i. First Device Type"
   ]
  },
  {
   "cell_type": "code",
   "execution_count": 14,
   "metadata": {
    "_uuid": "ea05c51272314fee1a93f37b8b5e5aff3231298c"
   },
   "outputs": [
    {
     "data": {
      "text/plain": [
       "array(['Mac Desktop', 'Windows Desktop', 'iPhone', 'Other/Unknown',\n",
       "       'Desktop (Other)', 'Android Tablet', 'iPad', 'Android Phone',\n",
       "       'SmartPhone (Other)'], dtype=object)"
      ]
     },
     "execution_count": 14,
     "metadata": {},
     "output_type": "execute_result"
    }
   ],
   "source": [
    "df_train.first_device_type.unique()"
   ]
  },
  {
   "cell_type": "markdown",
   "metadata": {
    "_uuid": "421c701dc994fdf5f77d8e198a03e2eb7f4a60c0"
   },
   "source": [
    "j. Gender"
   ]
  },
  {
   "cell_type": "code",
   "execution_count": 15,
   "metadata": {
    "_uuid": "9a57e395cadee84178f6e6c4ead3ffae4ec7c192"
   },
   "outputs": [
    {
     "data": {
      "text/plain": [
       "array(['-unknown-', 'MALE', 'FEMALE', 'OTHER'], dtype=object)"
      ]
     },
     "execution_count": 15,
     "metadata": {},
     "output_type": "execute_result"
    }
   ],
   "source": [
    "df_train.gender.unique()"
   ]
  },
  {
   "cell_type": "markdown",
   "metadata": {
    "_uuid": "0595fafc34df2babcecd7f5980fd004b0ad7bfd0"
   },
   "source": [
    "###### Similarly for Gender."
   ]
  },
  {
   "cell_type": "markdown",
   "metadata": {
    "_uuid": "0336a761dce54b987ad81e63e841d93ce967693c"
   },
   "source": [
    "k. Id"
   ]
  },
  {
   "cell_type": "code",
   "execution_count": 16,
   "metadata": {
    "_uuid": "af8bf8e17915f80404c0a9c1906c20c7121d6794"
   },
   "outputs": [
    {
     "data": {
      "text/plain": [
       "array(['gxn3p5htnn', '820tgsjxq7', '4ft3gnwmtx', ..., '6o3arsjbb4',\n",
       "       'jh95kwisub', 'nw9fwlyb5f'], dtype=object)"
      ]
     },
     "execution_count": 16,
     "metadata": {},
     "output_type": "execute_result"
    }
   ],
   "source": [
    "df_train.id.unique()"
   ]
  },
  {
   "cell_type": "markdown",
   "metadata": {
    "_uuid": "bab56ecc14a55d94746253a4e6d2e159ec70107c"
   },
   "source": [
    "l. Language"
   ]
  },
  {
   "cell_type": "code",
   "execution_count": 17,
   "metadata": {
    "_uuid": "bfe13da58cd876db23733716760e25b9ff2e4d6f"
   },
   "outputs": [
    {
     "data": {
      "text/plain": [
       "array(['en', 'fr', 'de', 'es', 'it', 'pt', 'zh', 'ko', 'ja', 'ru', 'pl',\n",
       "       'el', 'sv', 'nl', 'hu', 'da', 'id', 'fi', 'no', 'tr', 'th', 'cs',\n",
       "       'hr', 'ca', 'is'], dtype=object)"
      ]
     },
     "execution_count": 17,
     "metadata": {},
     "output_type": "execute_result"
    }
   ],
   "source": [
    "df_train.language.unique()"
   ]
  },
  {
   "cell_type": "markdown",
   "metadata": {
    "_uuid": "7410bb972dff4ed6ee3f3a4b2588dd4e32f6cfd7"
   },
   "source": [
    "m. Signup App"
   ]
  },
  {
   "cell_type": "code",
   "execution_count": 18,
   "metadata": {
    "_uuid": "82a678b536feb42b9cf245e6cb4d27dbf22578c9"
   },
   "outputs": [
    {
     "data": {
      "text/plain": [
       "array(['Web', 'Moweb', 'iOS', 'Android'], dtype=object)"
      ]
     },
     "execution_count": 18,
     "metadata": {},
     "output_type": "execute_result"
    }
   ],
   "source": [
    "df_train.signup_app.unique()"
   ]
  },
  {
   "cell_type": "markdown",
   "metadata": {
    "_uuid": "37df1567997935332efbdf70afd7fa336770c60e"
   },
   "source": [
    "n. Signup Flow"
   ]
  },
  {
   "cell_type": "code",
   "execution_count": 19,
   "metadata": {
    "_uuid": "3b450ecc7272603f57e7e915b98d30c0fa2d6f93"
   },
   "outputs": [
    {
     "data": {
      "text/plain": [
       "array([ 0,  3,  2,  1, 24,  8,  6,  5, 10, 25, 12,  4, 16, 15, 20, 21, 23])"
      ]
     },
     "execution_count": 19,
     "metadata": {},
     "output_type": "execute_result"
    }
   ],
   "source": [
    "df_train.signup_flow.unique()"
   ]
  },
  {
   "cell_type": "markdown",
   "metadata": {
    "_uuid": "7fa85fb78760b9ac921f6a0464c112155a61be32"
   },
   "source": [
    "o. Signup Method"
   ]
  },
  {
   "cell_type": "code",
   "execution_count": 20,
   "metadata": {
    "_uuid": "b7e9d76b98505a2c868710723dd9edbece6bb9c2"
   },
   "outputs": [
    {
     "data": {
      "text/plain": [
       "array(['facebook', 'basic', 'google'], dtype=object)"
      ]
     },
     "execution_count": 20,
     "metadata": {},
     "output_type": "execute_result"
    }
   ],
   "source": [
    "df_train.signup_method.unique()"
   ]
  },
  {
   "cell_type": "markdown",
   "metadata": {
    "_uuid": "1d808902bbb1a0753e1e7437c22c159c440b1798"
   },
   "source": [
    "p. Timestamp First Active"
   ]
  },
  {
   "cell_type": "code",
   "execution_count": 21,
   "metadata": {
    "_uuid": "5b36a68092f2003bf438e33d0796077628322fd6"
   },
   "outputs": [
    {
     "data": {
      "text/plain": [
       "array([20090319043255, 20090523174809, 20090609231247, ...,\n",
       "       20140630235754, 20140630235822, 20140630235824])"
      ]
     },
     "execution_count": 21,
     "metadata": {},
     "output_type": "execute_result"
    }
   ],
   "source": [
    "df_train.timestamp_first_active.unique()"
   ]
  },
  {
   "cell_type": "markdown",
   "metadata": {
    "_uuid": "ce9f5103df5dcd67b45d7ee572897f13e3994cbd"
   },
   "source": [
    "Now we will replace the '-unknown-' values with NaN."
   ]
  },
  {
   "cell_type": "code",
   "execution_count": 22,
   "metadata": {
    "_uuid": "b11d220e3967176684e1dec4c6311d7c47c04dff"
   },
   "outputs": [],
   "source": [
    "df_train.first_browser.replace('-unknown-', np.nan, inplace=True)\n",
    "df_train.gender.replace('-unknown-', np.nan, inplace=True)"
   ]
  },
  {
   "cell_type": "markdown",
   "metadata": {
    "_uuid": "05968a5bbebc9671c08add078d821405a39b5841"
   },
   "source": [
    "Overview of the data:"
   ]
  },
  {
   "cell_type": "code",
   "execution_count": 23,
   "metadata": {
    "_uuid": "c510f13baa10f1036a65a488071151a02a7fc3ab"
   },
   "outputs": [
    {
     "data": {
      "text/html": [
       "<div>\n",
       "<style scoped>\n",
       "    .dataframe tbody tr th:only-of-type {\n",
       "        vertical-align: middle;\n",
       "    }\n",
       "\n",
       "    .dataframe tbody tr th {\n",
       "        vertical-align: top;\n",
       "    }\n",
       "\n",
       "    .dataframe thead th {\n",
       "        text-align: right;\n",
       "    }\n",
       "</style>\n",
       "<table border=\"1\" class=\"dataframe\">\n",
       "  <thead>\n",
       "    <tr style=\"text-align: right;\">\n",
       "      <th></th>\n",
       "      <th>id</th>\n",
       "      <th>date_account_created</th>\n",
       "      <th>timestamp_first_active</th>\n",
       "      <th>date_first_booking</th>\n",
       "      <th>gender</th>\n",
       "      <th>age</th>\n",
       "      <th>signup_method</th>\n",
       "      <th>signup_flow</th>\n",
       "      <th>language</th>\n",
       "      <th>affiliate_channel</th>\n",
       "      <th>affiliate_provider</th>\n",
       "      <th>first_affiliate_tracked</th>\n",
       "      <th>signup_app</th>\n",
       "      <th>first_device_type</th>\n",
       "      <th>first_browser</th>\n",
       "      <th>country_destination</th>\n",
       "    </tr>\n",
       "  </thead>\n",
       "  <tbody>\n",
       "    <tr>\n",
       "      <th>0</th>\n",
       "      <td>gxn3p5htnn</td>\n",
       "      <td>2010-06-28</td>\n",
       "      <td>20090319043255</td>\n",
       "      <td>NaN</td>\n",
       "      <td>NaN</td>\n",
       "      <td>NaN</td>\n",
       "      <td>facebook</td>\n",
       "      <td>0</td>\n",
       "      <td>en</td>\n",
       "      <td>direct</td>\n",
       "      <td>direct</td>\n",
       "      <td>untracked</td>\n",
       "      <td>Web</td>\n",
       "      <td>Mac Desktop</td>\n",
       "      <td>Chrome</td>\n",
       "      <td>NDF</td>\n",
       "    </tr>\n",
       "    <tr>\n",
       "      <th>1</th>\n",
       "      <td>820tgsjxq7</td>\n",
       "      <td>2011-05-25</td>\n",
       "      <td>20090523174809</td>\n",
       "      <td>NaN</td>\n",
       "      <td>MALE</td>\n",
       "      <td>38.0</td>\n",
       "      <td>facebook</td>\n",
       "      <td>0</td>\n",
       "      <td>en</td>\n",
       "      <td>seo</td>\n",
       "      <td>google</td>\n",
       "      <td>untracked</td>\n",
       "      <td>Web</td>\n",
       "      <td>Mac Desktop</td>\n",
       "      <td>Chrome</td>\n",
       "      <td>NDF</td>\n",
       "    </tr>\n",
       "    <tr>\n",
       "      <th>2</th>\n",
       "      <td>4ft3gnwmtx</td>\n",
       "      <td>2010-09-28</td>\n",
       "      <td>20090609231247</td>\n",
       "      <td>2010-08-02</td>\n",
       "      <td>FEMALE</td>\n",
       "      <td>56.0</td>\n",
       "      <td>basic</td>\n",
       "      <td>3</td>\n",
       "      <td>en</td>\n",
       "      <td>direct</td>\n",
       "      <td>direct</td>\n",
       "      <td>untracked</td>\n",
       "      <td>Web</td>\n",
       "      <td>Windows Desktop</td>\n",
       "      <td>IE</td>\n",
       "      <td>US</td>\n",
       "    </tr>\n",
       "    <tr>\n",
       "      <th>3</th>\n",
       "      <td>bjjt8pjhuk</td>\n",
       "      <td>2011-12-05</td>\n",
       "      <td>20091031060129</td>\n",
       "      <td>2012-09-08</td>\n",
       "      <td>FEMALE</td>\n",
       "      <td>42.0</td>\n",
       "      <td>facebook</td>\n",
       "      <td>0</td>\n",
       "      <td>en</td>\n",
       "      <td>direct</td>\n",
       "      <td>direct</td>\n",
       "      <td>untracked</td>\n",
       "      <td>Web</td>\n",
       "      <td>Mac Desktop</td>\n",
       "      <td>Firefox</td>\n",
       "      <td>other</td>\n",
       "    </tr>\n",
       "    <tr>\n",
       "      <th>4</th>\n",
       "      <td>87mebub9p4</td>\n",
       "      <td>2010-09-14</td>\n",
       "      <td>20091208061105</td>\n",
       "      <td>2010-02-18</td>\n",
       "      <td>NaN</td>\n",
       "      <td>41.0</td>\n",
       "      <td>basic</td>\n",
       "      <td>0</td>\n",
       "      <td>en</td>\n",
       "      <td>direct</td>\n",
       "      <td>direct</td>\n",
       "      <td>untracked</td>\n",
       "      <td>Web</td>\n",
       "      <td>Mac Desktop</td>\n",
       "      <td>Chrome</td>\n",
       "      <td>US</td>\n",
       "    </tr>\n",
       "  </tbody>\n",
       "</table>\n",
       "</div>"
      ],
      "text/plain": [
       "           id date_account_created  timestamp_first_active date_first_booking  \\\n",
       "0  gxn3p5htnn           2010-06-28          20090319043255                NaN   \n",
       "1  820tgsjxq7           2011-05-25          20090523174809                NaN   \n",
       "2  4ft3gnwmtx           2010-09-28          20090609231247         2010-08-02   \n",
       "3  bjjt8pjhuk           2011-12-05          20091031060129         2012-09-08   \n",
       "4  87mebub9p4           2010-09-14          20091208061105         2010-02-18   \n",
       "\n",
       "   gender   age signup_method  signup_flow language affiliate_channel  \\\n",
       "0     NaN   NaN      facebook            0       en            direct   \n",
       "1    MALE  38.0      facebook            0       en               seo   \n",
       "2  FEMALE  56.0         basic            3       en            direct   \n",
       "3  FEMALE  42.0      facebook            0       en            direct   \n",
       "4     NaN  41.0         basic            0       en            direct   \n",
       "\n",
       "  affiliate_provider first_affiliate_tracked signup_app first_device_type  \\\n",
       "0             direct               untracked        Web       Mac Desktop   \n",
       "1             google               untracked        Web       Mac Desktop   \n",
       "2             direct               untracked        Web   Windows Desktop   \n",
       "3             direct               untracked        Web       Mac Desktop   \n",
       "4             direct               untracked        Web       Mac Desktop   \n",
       "\n",
       "  first_browser country_destination  \n",
       "0        Chrome                 NDF  \n",
       "1        Chrome                 NDF  \n",
       "2            IE                  US  \n",
       "3       Firefox               other  \n",
       "4        Chrome                  US  "
      ]
     },
     "execution_count": 23,
     "metadata": {},
     "output_type": "execute_result"
    }
   ],
   "source": [
    "df_train.head()"
   ]
  },
  {
   "cell_type": "markdown",
   "metadata": {
    "_uuid": "3346268e07c71644a67bc4fefd93fdd2090db621"
   },
   "source": [
    "#### Step:3 Check for anomalies in numerical variables"
   ]
  },
  {
   "cell_type": "markdown",
   "metadata": {
    "_uuid": "5d5532e348c442bb9758f01a5fcd46fe8feca949"
   },
   "source": [
    "Here, we only have Age as a continuous numerical variable."
   ]
  },
  {
   "cell_type": "markdown",
   "metadata": {
    "_uuid": "3c88b5639921f066b155fcb40d45ed1db407dd28"
   },
   "source": [
    "Obtain the summary statistics of Age:"
   ]
  },
  {
   "cell_type": "code",
   "execution_count": 24,
   "metadata": {
    "_uuid": "c2b55d8e0929628cc47da2ae220e4762bdf844ed"
   },
   "outputs": [
    {
     "data": {
      "text/plain": [
       "count    125461.000000\n",
       "mean         49.668335\n",
       "std         155.666612\n",
       "min           1.000000\n",
       "25%          28.000000\n",
       "50%          34.000000\n",
       "75%          43.000000\n",
       "max        2014.000000\n",
       "Name: age, dtype: float64"
      ]
     },
     "execution_count": 24,
     "metadata": {},
     "output_type": "execute_result"
    }
   ],
   "source": [
    "df_train.age.describe()"
   ]
  },
  {
   "cell_type": "markdown",
   "metadata": {
    "_uuid": "9b4397c2e94ab6a6f76882418a654174134cd87e"
   },
   "source": [
    "Here, we can see some values i.e. 1 as minimum and 2014 as maximum age. So, we will analyze it futher by looking for users with age less than 15 and more than 150."
   ]
  },
  {
   "cell_type": "code",
   "execution_count": 25,
   "metadata": {
    "_uuid": "ffa081fce34a85c9f9f4612e88098450d47ac073"
   },
   "outputs": [
    {
     "name": "stdout",
     "output_type": "stream",
     "text": [
      "Summary statistics for age<15:\n",
      " \n",
      "       timestamp_first_active        age  signup_flow\n",
      "count            5.700000e+01  57.000000    57.000000\n",
      "mean             2.010547e+13   4.438596     2.754386\n",
      "std              1.145978e+10   1.195491     4.281525\n",
      "min              2.010031e+13   1.000000     0.000000\n",
      "25%              2.010063e+13   5.000000     2.000000\n",
      "50%              2.010082e+13   5.000000     2.000000\n",
      "75%              2.010091e+13   5.000000     3.000000\n",
      "max              2.014053e+13   5.000000    25.000000\n",
      "-------------------------------------------------------\n",
      "Summary statistics for age>150:\n",
      " \n",
      "       timestamp_first_active          age  signup_flow\n",
      "count            7.790000e+02   779.000000   779.000000\n",
      "mean             2.012667e+13  2011.097561     1.599487\n",
      "std              9.276066e+09    14.718288     5.168751\n",
      "min              2.010041e+13  1924.000000     0.000000\n",
      "25%              2.012061e+13  2014.000000     0.000000\n",
      "50%              2.013032e+13  2014.000000     0.000000\n",
      "75%              2.013093e+13  2014.000000     0.000000\n",
      "max              2.014063e+13  2014.000000    25.000000\n"
     ]
    }
   ],
   "source": [
    "print('Summary statistics for age<15:')\n",
    "print(' ')\n",
    "print(df_train[df_train.age<15].describe())\n",
    "print('-------------------------------------------------------')\n",
    "print('Summary statistics for age>150:')\n",
    "print(' ')\n",
    "print(df_train[df_train.age>150].describe())"
   ]
  },
  {
   "cell_type": "markdown",
   "metadata": {
    "_uuid": "0febe7e79c8783dd2e03064a4036b52e9ef5d430"
   },
   "source": [
    "So, here we can see that for the ages above 150, the users have inserted their year of birth instead of age. We can fix this by subtracting the given year from the current year (for this dataset it was 2015) to get the age of the user.<br>\n",
    "For ages less than 15, they can be considered as incorrect inputs and can be filtered out."
   ]
  },
  {
   "cell_type": "code",
   "execution_count": 26,
   "metadata": {
    "_uuid": "62b558c5213d506b45b0a22b6924f9851b60024e"
   },
   "outputs": [
    {
     "data": {
      "text/plain": [
       "count    125461.000000\n",
       "mean         37.205458\n",
       "std          14.209255\n",
       "min           1.000000\n",
       "25%          28.000000\n",
       "50%          34.000000\n",
       "75%          43.000000\n",
       "max         150.000000\n",
       "Name: age, dtype: float64"
      ]
     },
     "execution_count": 26,
     "metadata": {},
     "output_type": "execute_result"
    }
   ],
   "source": [
    "df_abnormal_age=df_train['age']>150\n",
    "df_train.loc[df_abnormal_age,'age']=2015 - df_train.loc[df_abnormal_age,'age']\n",
    "df_train.age.describe()"
   ]
  },
  {
   "cell_type": "markdown",
   "metadata": {
    "_uuid": "8301511adf37df2bfaf7692378bc708b30465053"
   },
   "source": [
    "Now we will only select the age between 18 and 100 as they are relevant and replace others with NaN."
   ]
  },
  {
   "cell_type": "code",
   "execution_count": 27,
   "metadata": {
    "_uuid": "0e3810c8c89078264918d7b963c8077a75f76031",
    "scrolled": true
   },
   "outputs": [
    {
     "data": {
      "text/plain": [
       "count    122987.000000\n",
       "mean         36.585249\n",
       "std          11.698785\n",
       "min          18.000000\n",
       "25%          28.000000\n",
       "50%          34.000000\n",
       "75%          42.000000\n",
       "max         100.000000\n",
       "Name: age, dtype: float64"
      ]
     },
     "execution_count": 27,
     "metadata": {},
     "output_type": "execute_result"
    }
   ],
   "source": [
    "df_train.loc[df_train.age<18,'age']=np.nan\n",
    "df_train.loc[df_train.age>100,'age']=np.nan\n",
    "df_train.age.describe()"
   ]
  },
  {
   "cell_type": "code",
   "execution_count": 28,
   "metadata": {
    "_uuid": "3e68e2c102bf2f902c5c55f3a19c58e99dab56d3"
   },
   "outputs": [
    {
     "data": {
      "text/plain": [
       "id                              0\n",
       "date_account_created            0\n",
       "timestamp_first_active          0\n",
       "date_first_booking         124543\n",
       "gender                      95688\n",
       "age                         90464\n",
       "signup_method                   0\n",
       "signup_flow                     0\n",
       "language                        0\n",
       "affiliate_channel               0\n",
       "affiliate_provider              0\n",
       "first_affiliate_tracked      6065\n",
       "signup_app                      0\n",
       "first_device_type               0\n",
       "first_browser               27266\n",
       "country_destination             0\n",
       "dtype: int64"
      ]
     },
     "execution_count": 28,
     "metadata": {},
     "output_type": "execute_result"
    }
   ],
   "source": [
    "df_train.isnull().sum()"
   ]
  },
  {
   "cell_type": "markdown",
   "metadata": {
    "_uuid": "0bc27448613cd235d3e8543615b7432b45d86580"
   },
   "source": [
    "#### Step 4: Removing unwanted values"
   ]
  },
  {
   "cell_type": "markdown",
   "metadata": {
    "_uuid": "5aabd83f1d433f42d667820babb916c0778b4ee8"
   },
   "source": [
    "In the 'About the dataset' section, it was mentioned that one of the values in the country_destination column was 'NDF' i.e. 'No Destination found' which means the user has not booked any destination yet. It would be better to filter out those rows as having them won't add any value to our analysis."
   ]
  },
  {
   "cell_type": "code",
   "execution_count": 29,
   "metadata": {
    "_uuid": "60eb1d04e540de88e1eb0b3614649410c842e7c1"
   },
   "outputs": [
    {
     "data": {
      "text/html": [
       "<div>\n",
       "<style scoped>\n",
       "    .dataframe tbody tr th:only-of-type {\n",
       "        vertical-align: middle;\n",
       "    }\n",
       "\n",
       "    .dataframe tbody tr th {\n",
       "        vertical-align: top;\n",
       "    }\n",
       "\n",
       "    .dataframe thead th {\n",
       "        text-align: right;\n",
       "    }\n",
       "</style>\n",
       "<table border=\"1\" class=\"dataframe\">\n",
       "  <thead>\n",
       "    <tr style=\"text-align: right;\">\n",
       "      <th></th>\n",
       "      <th>id</th>\n",
       "      <th>date_account_created</th>\n",
       "      <th>timestamp_first_active</th>\n",
       "      <th>date_first_booking</th>\n",
       "      <th>gender</th>\n",
       "      <th>age</th>\n",
       "      <th>signup_method</th>\n",
       "      <th>signup_flow</th>\n",
       "      <th>language</th>\n",
       "      <th>affiliate_channel</th>\n",
       "      <th>affiliate_provider</th>\n",
       "      <th>first_affiliate_tracked</th>\n",
       "      <th>signup_app</th>\n",
       "      <th>first_device_type</th>\n",
       "      <th>first_browser</th>\n",
       "      <th>country_destination</th>\n",
       "    </tr>\n",
       "  </thead>\n",
       "  <tbody>\n",
       "    <tr>\n",
       "      <th>2</th>\n",
       "      <td>4ft3gnwmtx</td>\n",
       "      <td>2010-09-28</td>\n",
       "      <td>20090609231247</td>\n",
       "      <td>2010-08-02</td>\n",
       "      <td>FEMALE</td>\n",
       "      <td>56.0</td>\n",
       "      <td>basic</td>\n",
       "      <td>3</td>\n",
       "      <td>en</td>\n",
       "      <td>direct</td>\n",
       "      <td>direct</td>\n",
       "      <td>untracked</td>\n",
       "      <td>Web</td>\n",
       "      <td>Windows Desktop</td>\n",
       "      <td>IE</td>\n",
       "      <td>US</td>\n",
       "    </tr>\n",
       "    <tr>\n",
       "      <th>3</th>\n",
       "      <td>bjjt8pjhuk</td>\n",
       "      <td>2011-12-05</td>\n",
       "      <td>20091031060129</td>\n",
       "      <td>2012-09-08</td>\n",
       "      <td>FEMALE</td>\n",
       "      <td>42.0</td>\n",
       "      <td>facebook</td>\n",
       "      <td>0</td>\n",
       "      <td>en</td>\n",
       "      <td>direct</td>\n",
       "      <td>direct</td>\n",
       "      <td>untracked</td>\n",
       "      <td>Web</td>\n",
       "      <td>Mac Desktop</td>\n",
       "      <td>Firefox</td>\n",
       "      <td>other</td>\n",
       "    </tr>\n",
       "    <tr>\n",
       "      <th>4</th>\n",
       "      <td>87mebub9p4</td>\n",
       "      <td>2010-09-14</td>\n",
       "      <td>20091208061105</td>\n",
       "      <td>2010-02-18</td>\n",
       "      <td>NaN</td>\n",
       "      <td>41.0</td>\n",
       "      <td>basic</td>\n",
       "      <td>0</td>\n",
       "      <td>en</td>\n",
       "      <td>direct</td>\n",
       "      <td>direct</td>\n",
       "      <td>untracked</td>\n",
       "      <td>Web</td>\n",
       "      <td>Mac Desktop</td>\n",
       "      <td>Chrome</td>\n",
       "      <td>US</td>\n",
       "    </tr>\n",
       "    <tr>\n",
       "      <th>5</th>\n",
       "      <td>osr2jwljor</td>\n",
       "      <td>2010-01-01</td>\n",
       "      <td>20100101215619</td>\n",
       "      <td>2010-01-02</td>\n",
       "      <td>NaN</td>\n",
       "      <td>NaN</td>\n",
       "      <td>basic</td>\n",
       "      <td>0</td>\n",
       "      <td>en</td>\n",
       "      <td>other</td>\n",
       "      <td>other</td>\n",
       "      <td>omg</td>\n",
       "      <td>Web</td>\n",
       "      <td>Mac Desktop</td>\n",
       "      <td>Chrome</td>\n",
       "      <td>US</td>\n",
       "    </tr>\n",
       "    <tr>\n",
       "      <th>6</th>\n",
       "      <td>lsw9q7uk0j</td>\n",
       "      <td>2010-01-02</td>\n",
       "      <td>20100102012558</td>\n",
       "      <td>2010-01-05</td>\n",
       "      <td>FEMALE</td>\n",
       "      <td>46.0</td>\n",
       "      <td>basic</td>\n",
       "      <td>0</td>\n",
       "      <td>en</td>\n",
       "      <td>other</td>\n",
       "      <td>craigslist</td>\n",
       "      <td>untracked</td>\n",
       "      <td>Web</td>\n",
       "      <td>Mac Desktop</td>\n",
       "      <td>Safari</td>\n",
       "      <td>US</td>\n",
       "    </tr>\n",
       "  </tbody>\n",
       "</table>\n",
       "</div>"
      ],
      "text/plain": [
       "           id date_account_created  timestamp_first_active date_first_booking  \\\n",
       "2  4ft3gnwmtx           2010-09-28          20090609231247         2010-08-02   \n",
       "3  bjjt8pjhuk           2011-12-05          20091031060129         2012-09-08   \n",
       "4  87mebub9p4           2010-09-14          20091208061105         2010-02-18   \n",
       "5  osr2jwljor           2010-01-01          20100101215619         2010-01-02   \n",
       "6  lsw9q7uk0j           2010-01-02          20100102012558         2010-01-05   \n",
       "\n",
       "   gender   age signup_method  signup_flow language affiliate_channel  \\\n",
       "2  FEMALE  56.0         basic            3       en            direct   \n",
       "3  FEMALE  42.0      facebook            0       en            direct   \n",
       "4     NaN  41.0         basic            0       en            direct   \n",
       "5     NaN   NaN         basic            0       en             other   \n",
       "6  FEMALE  46.0         basic            0       en             other   \n",
       "\n",
       "  affiliate_provider first_affiliate_tracked signup_app first_device_type  \\\n",
       "2             direct               untracked        Web   Windows Desktop   \n",
       "3             direct               untracked        Web       Mac Desktop   \n",
       "4             direct               untracked        Web       Mac Desktop   \n",
       "5              other                     omg        Web       Mac Desktop   \n",
       "6         craigslist               untracked        Web       Mac Desktop   \n",
       "\n",
       "  first_browser country_destination  \n",
       "2            IE                  US  \n",
       "3       Firefox               other  \n",
       "4        Chrome                  US  \n",
       "5        Chrome                  US  \n",
       "6        Safari                  US  "
      ]
     },
     "execution_count": 29,
     "metadata": {},
     "output_type": "execute_result"
    }
   ],
   "source": [
    "df_without_ndf=df_train[df_train.country_destination !='NDF']\n",
    "df_without_ndf.head()"
   ]
  },
  {
   "cell_type": "markdown",
   "metadata": {
    "_uuid": "df28d4fbefc6a51350c51b12cd9a670631b79d74"
   },
   "source": [
    "#### Step 5: Convert the columns into desired format"
   ]
  },
  {
   "cell_type": "markdown",
   "metadata": {
    "_uuid": "34546d1839156380314515b1f88c48f173a6b5aa"
   },
   "source": [
    "Convert the date_account_created, date_first_booking, timestamp_first_active columns into date time format:"
   ]
  },
  {
   "cell_type": "markdown",
   "metadata": {
    "_uuid": "a59d1a88fc5dee9c197ca50b0327a3bf6e936ab0"
   },
   "source": [
    "Before conversion, the values in the two columns had datatype as object and float64 as shown below:"
   ]
  },
  {
   "cell_type": "code",
   "execution_count": 30,
   "metadata": {
    "_uuid": "490d2dcc462aba294f4dc5fbd29460f37b9c9241"
   },
   "outputs": [
    {
     "name": "stdout",
     "output_type": "stream",
     "text": [
      "Datatype of date_account_type: object\n",
      "\n",
      "Datatype of date_first_booking: object\n",
      "\n",
      "Datatype of timestamp_first_active: int64\n"
     ]
    }
   ],
   "source": [
    "print('Datatype of date_account_type: '+ str(df_without_ndf.date_account_created.dtype))\n",
    "print('')\n",
    "print('Datatype of date_first_booking: '+ str(df_without_ndf.date_first_booking.dtype))\n",
    "print('')\n",
    "print('Datatype of timestamp_first_active: '+ str(df_without_ndf.timestamp_first_active.dtype))"
   ]
  },
  {
   "cell_type": "markdown",
   "metadata": {
    "_uuid": "26617f0ce0e2f1c3149036a0b914a76c7b8693d2"
   },
   "source": [
    "Now, convert the dates into datetime format."
   ]
  },
  {
   "cell_type": "code",
   "execution_count": 31,
   "metadata": {
    "_uuid": "aae19d326f5ba4771cdcedc07e2292c58c1a8bf6"
   },
   "outputs": [],
   "source": [
    "#To convert the dates into datetime format\n",
    "df_without_ndf.date_account_created=pd.to_datetime(df_without_ndf.date_account_created)\n",
    "df_without_ndf.date_first_booking=pd.to_datetime(df_without_ndf.date_first_booking)\n",
    "df_without_ndf['timestamp_first_active'] = pd.to_datetime((df_without_ndf.timestamp_first_active)//1000000, format='%Y%m%d')"
   ]
  },
  {
   "cell_type": "markdown",
   "metadata": {
    "_uuid": "e88a3ad1879cb659c713050c60ed105952336f56"
   },
   "source": [
    "Check the datatypes of the columns:"
   ]
  },
  {
   "cell_type": "code",
   "execution_count": 32,
   "metadata": {
    "_uuid": "45501e355e1a37f5ed3f47e61488758225510ae9"
   },
   "outputs": [
    {
     "name": "stdout",
     "output_type": "stream",
     "text": [
      "Datatype of date_account_type: datetime64[ns]\n",
      "\n",
      "Datatype of date_first_booking: datetime64[ns]\n",
      "\n",
      "Datatype of timestamp_first_active: datetime64[ns]\n"
     ]
    }
   ],
   "source": [
    "print('Datatype of date_account_type: '+ str(df_without_ndf.date_account_created.dtype))\n",
    "print('')\n",
    "print('Datatype of date_first_booking: '+ str(df_without_ndf.date_first_booking.dtype))\n",
    "print('')\n",
    "print('Datatype of timestamp_first_active: '+ str(df_without_ndf.timestamp_first_active.dtype))"
   ]
  },
  {
   "cell_type": "markdown",
   "metadata": {
    "_uuid": "66b6a40e16420675b51bdeef61cffffd825d182e"
   },
   "source": [
    "So, finally we are done with cleaning and now, we would now dive into visualizing and analyzing the data:"
   ]
  },
  {
   "cell_type": "markdown",
   "metadata": {
    "_uuid": "5cc7552cc598d5731e35ba1a1807f72d97490765"
   },
   "source": [
    "### Visualizing and Analyzing the Airbnb user data"
   ]
  },
  {
   "cell_type": "markdown",
   "metadata": {
    "_uuid": "787c8253989a1e61714cd61f4e37d3aacc9e6c59"
   },
   "source": [
    "##### 1. How are the Destination countries distributed among the users?"
   ]
  },
  {
   "cell_type": "code",
   "execution_count": 33,
   "metadata": {
    "_uuid": "216e4e16130e5501688ac16d47983a8f725411f2",
    "scrolled": false
   },
   "outputs": [
    {
     "data": {
      "image/png": "[encoded data removed]",
      "text/plain": [
       "<Figure size 864x432 with 1 Axes>"
      ]
     },
     "metadata": {
      "needs_background": "light"
     },
     "output_type": "display_data"
    }
   ],
   "source": [
    "#visualizing the distribution of user's selection of country\n",
    "plt.figure(figsize=(12,6))\n",
    "destination_percentage=df_without_ndf.country_destination.value_counts()/df_without_ndf.shape[0]*100\n",
    "destination_percentage.plot(kind='bar')\n",
    "# sns.countplot(x='country_destination', data=df_without_ndf,order=df_without_ndf.country_destination.value_counts().index)\n",
    "plt.ylabel(\"% of users\")\n",
    "plt.title(\"Distribution of destination countries among users\")\n",
    "plt.xticks(rotation='horizontal')\n",
    "plt.show()"
   ]
  },
  {
   "cell_type": "markdown",
   "metadata": {
    "_uuid": "3f51f456992496a040dff16c80f026bcda3d25f6"
   },
   "source": [
    "68% of the users here have mostly booked their Airbnb's in the US. This might be because all the users are from the US and prefer to go for vacation in the US only."
   ]
  },
  {
   "cell_type": "markdown",
   "metadata": {
    "_uuid": "0a7b9ad956b5531192d5fc10e2facb6d314665b0"
   },
   "source": [
    "##### 2. What is the age distribution of users?"
   ]
  },
  {
   "cell_type": "code",
   "execution_count": 34,
   "metadata": {
    "_uuid": "747df37988e2928660d4753639fbb4acd4477160"
   },
   "outputs": [
    {
     "data": {
      "image/png": "[encoded data removed]",
      "text/plain": [
       "<Figure size 864x432 with 1 Axes>"
      ]
     },
     "metadata": {
      "needs_background": "light"
     },
     "output_type": "display_data"
    }
   ],
   "source": [
    "#Let's visualize the ages of users\n",
    "plt.figure(figsize=(12,6))\n",
    "sns.distplot(df_without_ndf.age.dropna())\n",
    "plt.title(\"Age Distribution of users\")\n",
    "plt.ylabel('% of users')\n",
    "plt.show()"
   ]
  },
  {
   "cell_type": "markdown",
   "metadata": {
    "_uuid": "1eecbbacdb6549e548f5f405b0c35557a1b76d47"
   },
   "source": [
    "Most of our users are in age range of 25-35 years."
   ]
  },
  {
   "cell_type": "markdown",
   "metadata": {
    "_uuid": "d1601827e010887cce18e36829a82a9a1e87cbb7"
   },
   "source": [
    "##### 3. How does age varies with Destination countries?"
   ]
  },
  {
   "cell_type": "code",
   "execution_count": 35,
   "metadata": {
    "_uuid": "a5fdde601bb07f5aa457baac49d14020ea06fb6c"
   },
   "outputs": [
    {
     "data": {
      "image/png": "[encoded data removed]",
      "text/plain": [
       "<Figure size 864x432 with 1 Axes>"
      ]
     },
     "metadata": {
      "needs_background": "light"
     },
     "output_type": "display_data"
    }
   ],
   "source": [
    "#Let's check how age is distributed across the destination countries\n",
    "plt.figure(figsize=(12,6))\n",
    "sns.boxplot(y='age' , x='country_destination',data=df_without_ndf)\n",
    "plt.title(\"Age Distribution across the destinations\")\n",
    "plt.xlabel(\"\")\n",
    "plt.show()"
   ]
  },
  {
   "cell_type": "markdown",
   "metadata": {
    "_uuid": "58013210d139e749652c84c3516ff7865726d6be"
   },
   "source": [
    "Almost all the countries have a similar median age. Only users tavelling to Spain and Portugal are slightly younger. <br> Users of age 80 and above mostly choose US as their destination. The reason might be the US user data i.e. as all the users are from US, older people in US prefer not to travel outside their home country."
   ]
  },
  {
   "cell_type": "markdown",
   "metadata": {
    "_uuid": "414d399f93d76db2c3dba2b6b6758e36bf477e34"
   },
   "source": [
    "##### 4. What is the gender distribution of users?"
   ]
  },
  {
   "cell_type": "code",
   "execution_count": 36,
   "metadata": {
    "_uuid": "e43e219eb7592dd60a30dfbfc50c7b5956268d43"
   },
   "outputs": [
    {
     "data": {
      "image/png": "[encoded data removed]",
      "text/plain": [
       "<Figure size 720x432 with 1 Axes>"
      ]
     },
     "metadata": {
      "needs_background": "light"
     },
     "output_type": "display_data"
    }
   ],
   "source": [
    "#gender distribution\n",
    "plt.figure(figsize=(10,6))\n",
    "gender_percentage=df_without_ndf.gender.value_counts()/df_without_ndf.shape[0]*100\n",
    "gender_percentage.plot(kind='bar')\n",
    "# sns.countplot(x='gender',data=df_without_ndf)\n",
    "plt.ylabel(\"% of users\")\n",
    "plt.title(\"Gender Distribution of users\")\n",
    "plt.xticks(rotation='horizontal')\n",
    "plt.show()"
   ]
  },
  {
   "cell_type": "markdown",
   "metadata": {
    "_uuid": "bbecf6262707b334a3daf2071a915aaee436d80f"
   },
   "source": [
    "35% of the users are female and 30% of the users are male. It means that the difference between the gender of the users is not significant. Also, 34% of the gender information is missing from the dataset."
   ]
  },
  {
   "cell_type": "markdown",
   "metadata": {
    "_uuid": "54c90d8a05f7ce0daf81a366201618dcbbff1856"
   },
   "source": [
    "##### 5. How does Gender Distribution varies across the destination bookings?"
   ]
  },
  {
   "cell_type": "code",
   "execution_count": 37,
   "metadata": {
    "_uuid": "7224e9e284626156e816b41dce725dafab5ce59f"
   },
   "outputs": [
    {
     "data": {
      "image/png": "[encoded data removed]",
      "text/plain": [
       "<Figure size 864x432 with 1 Axes>"
      ]
     },
     "metadata": {
      "needs_background": "light"
     },
     "output_type": "display_data"
    },
    {
     "data": {
      "image/png": "[encoded data removed]",
      "text/plain": [
       "<Figure size 432x288 with 1 Axes>"
      ]
     },
     "metadata": {
      "needs_background": "light"
     },
     "output_type": "display_data"
    }
   ],
   "source": [
    "# fig,axes=plt.subplots(nrows=1,ncols=2, figsize=(12,4))\n",
    "\n",
    "plt.figure(figsize=(12,6))\n",
    "sns.countplot(x='country_destination',data=df_without_ndf, hue='gender', \n",
    "              order=df_without_ndf.country_destination.value_counts().index)\n",
    "plt.xlabel('')\n",
    "plt.ylabel('No. of users')\n",
    "\n",
    "# plt.figure(figsize=(12,6))\n",
    "ctab=pd.crosstab(df_without_ndf.country_destination,df_without_ndf['gender']).apply(lambda x: x/x.sum()*100, axis=1)\n",
    "ctab.plot(kind='bar',stacked=True,legend=True)\n",
    "plt.ylabel('% of users')\n",
    "plt.xlabel('')\n",
    "plt.xticks(rotation='horizontal')\n",
    "\n",
    "plt.legend(loc='upper left', bbox_to_anchor=(1,1), ncol=1)\n",
    "\n",
    "plt.show()"
   ]
  },
  {
   "cell_type": "markdown",
   "metadata": {
    "_uuid": "6be6cfcbdbab0c2b4ca9df67737ad4c3edf5a433"
   },
   "source": [
    "The bookings made by females are slightly higher for most of the destination countries except for Canada, Denmark, Netherlands and other(not mentioned) countries where booking by males are slightly more than the females."
   ]
  },
  {
   "cell_type": "markdown",
   "metadata": {
    "_uuid": "ea3bf0655403eab911a2a8898b06a081e11a6880"
   },
   "source": [
    "##### 6. Which is the most popular signup Application among the users?"
   ]
  },
  {
   "cell_type": "code",
   "execution_count": 38,
   "metadata": {
    "_uuid": "1c10d333860db149deafc16cc509fd496c04ce05"
   },
   "outputs": [
    {
     "data": {
      "image/png": "[encoded data removed]",
      "text/plain": [
       "<Figure size 864x432 with 1 Axes>"
      ]
     },
     "metadata": {
      "needs_background": "light"
     },
     "output_type": "display_data"
    }
   ],
   "source": [
    "#User signup app distribution\n",
    "plt.figure(figsize=(12,6))\n",
    "signup_app_percentage=df_without_ndf.signup_app.value_counts()/df_without_ndf.shape[0]*100\n",
    "signup_app_percentage.plot(kind='bar')\n",
    "# sns.countplot(x='signup_app', data=df_without_ndf, order=df.signup_app.value_counts().index)\n",
    "plt.title(\"Signup app distribution of users\")\n",
    "plt.ylabel('% of users')\n",
    "plt.xticks(rotation='horizontal')\n",
    "plt.show()"
   ]
  },
  {
   "cell_type": "markdown",
   "metadata": {
    "_uuid": "6b4469633d057bb291b681197e3efbdb2c7119b9"
   },
   "source": [
    "More than 80% of the users signup using Web, followed by iOS, Mobile Web and Android."
   ]
  },
  {
   "cell_type": "markdown",
   "metadata": {
    "_uuid": "004d12acfe94639b7972e553ace0d6804cb41ab2"
   },
   "source": [
    "##### 7. Which signup Application is used by users to book their country destinations?"
   ]
  },
  {
   "cell_type": "markdown",
   "metadata": {
    "_uuid": "67c1f2c8ae79bd37c8519004f2d25f14a109e499"
   },
   "source": [
    "Note: For clear visualization of the data for countries other than US, I displayed both the charts: one with US and one excluding US. I'll follow this similarly for subsequent visualizations wherever required."
   ]
  },
  {
   "cell_type": "code",
   "execution_count": 39,
   "metadata": {
    "_uuid": "bf61ab9b19808e28e985811832c421bca0a37a9d"
   },
   "outputs": [],
   "source": [
    "df_without_ndf_and_US=df_without_ndf[df_without_ndf.country_destination!='US']"
   ]
  },
  {
   "cell_type": "code",
   "execution_count": 40,
   "metadata": {
    "_uuid": "f3ae6e8aadb2794a6aa587fd4c0096c3184e3167"
   },
   "outputs": [
    {
     "data": {
      "image/png": "[encoded data removed]",
      "text/plain": [
       "<Figure size 864x432 with 1 Axes>"
      ]
     },
     "metadata": {
      "needs_background": "light"
     },
     "output_type": "display_data"
    },
    {
     "data": {
      "image/png": "[encoded data removed]",
      "text/plain": [
       "<Figure size 864x432 with 1 Axes>"
      ]
     },
     "metadata": {
      "needs_background": "light"
     },
     "output_type": "display_data"
    }
   ],
   "source": [
    "# fig, axes=plt.subplots(nrows=1,ncols=2,figsize=(15,5))\n",
    "plt.figure(figsize=(12,6))\n",
    "sns.countplot(x='country_destination',data=df_without_ndf,hue='signup_app',\n",
    "              order=df_without_ndf.country_destination.value_counts().index,\n",
    "              hue_order=['Web', 'iOS', 'Moweb', 'Android'])\n",
    "plt.title(\"Distribution of Signup app across destination countries\")\n",
    "plt.ylabel('No. of users')\n",
    "plt.xlabel('')\n",
    "\n",
    "plt.figure(figsize=(12,6))\n",
    "sns.countplot(x='country_destination',data=df_without_ndf_and_US,hue='signup_app',\n",
    "              order=df_without_ndf_and_US.country_destination.value_counts().index,\n",
    "              hue_order=['Web', 'iOS', 'Moweb', 'Android'])\n",
    "plt.title(\"Distribution of Signup app across destination countries excluding US\")\n",
    "plt.ylabel('No. of users')\n",
    "plt.xlabel('')\n",
    "\n",
    "plt.show()"
   ]
  },
  {
   "cell_type": "markdown",
   "metadata": {
    "_uuid": "0dde468cb1e47c5c354d5f61bee10dea321a3a5a"
   },
   "source": [
    "We can see that users mostly use web irrespective of booking any of the destination countries."
   ]
  },
  {
   "cell_type": "markdown",
   "metadata": {
    "_uuid": "bdda27ed42c7fd9270a08dbff453daaf83650678"
   },
   "source": [
    "##### 8. Which channel attracts more users to AirBnB?"
   ]
  },
  {
   "cell_type": "code",
   "execution_count": 41,
   "metadata": {
    "_uuid": "c5aa6c56a9a305d4dbf04e45e94949d7907dbb07"
   },
   "outputs": [
    {
     "data": {
      "image/png": "[encoded data removed]",
      "text/plain": [
       "<Figure size 864x432 with 1 Axes>"
      ]
     },
     "metadata": {
      "needs_background": "light"
     },
     "output_type": "display_data"
    }
   ],
   "source": [
    "plt.figure(figsize=(12,6))\n",
    "affiliate_channel_percentage=df_without_ndf.affiliate_channel.value_counts()/df_without_ndf.shape[0]*100\n",
    "affiliate_channel_percentage.plot(kind='bar')\n",
    "plt.title('Distribution of Affiliate channels used to attract the users')\n",
    "plt.ylabel('% of users')\n",
    "plt.xticks(rotation='horizontal')\n",
    "# sns.countplot(x='affiliate_channel',data=df_without_ndf,order=df_without_ndf.affiliate_channel.value_counts().index)\n",
    "plt.show()"
   ]
  },
  {
   "cell_type": "markdown",
   "metadata": {
    "_uuid": "2dcb3083498cad7f5f9fb79fc2af2f462895e49a"
   },
   "source": [
    "Direct paid marketing is responsible for attracting 60% of the users to book a place using AirbnB."
   ]
  },
  {
   "cell_type": "markdown",
   "metadata": {
    "_uuid": "ced84401524a8d5b5ceeda9efbb60f5168535851"
   },
   "source": [
    "##### 9. Which Affiliate channel attracts users to book places in their destination countries using Airbnb?"
   ]
  },
  {
   "cell_type": "code",
   "execution_count": 42,
   "metadata": {
    "_uuid": "77a68248d4f9d63f60ae5fdd36d5eff04c2c03e9"
   },
   "outputs": [
    {
     "data": {
      "text/plain": [
       "array(['direct', 'other', 'seo', 'sem-non-brand', 'content', 'sem-brand',\n",
       "       'remarketing', 'api'], dtype=object)"
      ]
     },
     "execution_count": 42,
     "metadata": {},
     "output_type": "execute_result"
    }
   ],
   "source": [
    "df_without_ndf.affiliate_channel.unique()"
   ]
  },
  {
   "cell_type": "code",
   "execution_count": 43,
   "metadata": {
    "_uuid": "7b3a5be234f624a9f528889159170e5cbc95a56a"
   },
   "outputs": [
    {
     "data": {
      "image/png": "[encoded data removed]",
      "text/plain": [
       "<Figure size 864x432 with 1 Axes>"
      ]
     },
     "metadata": {
      "needs_background": "light"
     },
     "output_type": "display_data"
    },
    {
     "data": {
      "image/png": "[encoded data removed]",
      "text/plain": [
       "<Figure size 864x432 with 1 Axes>"
      ]
     },
     "metadata": {
      "needs_background": "light"
     },
     "output_type": "display_data"
    }
   ],
   "source": [
    "#Channel Distribution based on Destination countries\n",
    "# fig, axes=plt.subplots(nrows=1, ncols=2,figsize=(15,5))\n",
    "plt.figure(figsize=(12,6))\n",
    "sns.countplot(x='country_destination',data=df_without_ndf,hue='affiliate_channel',\n",
    "              order=df_without_ndf.country_destination.value_counts().index,\n",
    "              hue_order=['direct', 'sem-brand', 'sem-non-brand', 'seo', 'other', 'api', 'content', 'remarketing'])\n",
    "plt.title('Distribution of Affiliate channels among the destination countries')\n",
    "plt.ylabel('No. of users')\n",
    "\n",
    "plt.figure(figsize=(12,6))\n",
    "sns.countplot(x='country_destination',data=df_without_ndf_and_US,hue='affiliate_channel',\n",
    "              order=df_without_ndf_and_US.country_destination.value_counts().index,\n",
    "              hue_order=['direct', 'sem-brand', 'sem-non-brand', 'seo', 'other', 'api', 'content', 'remarketing'])\n",
    "plt.title('Distribution of Affiliate channels among the destination countries excluding US')\n",
    "plt.xlabel('country_destination without US')\n",
    "plt.ylabel('No. of users')\n",
    "\n",
    "plt.show()"
   ]
  },
  {
   "cell_type": "markdown",
   "metadata": {
    "_uuid": "dc6baceff2e502832b53def72890f5b5a979aadb"
   },
   "source": [
    "We can see that direct marketing is most popular for attracting users for booking places in their destination countries."
   ]
  },
  {
   "cell_type": "markdown",
   "metadata": {
    "_uuid": "b7a579d5cd9d9d00dcaab9dcf4f450519caddc41"
   },
   "source": [
    "##### 10. Which signup method is used by users to register on Airbnb?"
   ]
  },
  {
   "cell_type": "code",
   "execution_count": 44,
   "metadata": {
    "_uuid": "d235aff2605c554548a247e76f81bc051d539e59"
   },
   "outputs": [
    {
     "data": {
      "image/png": "[encoded data removed]",
      "text/plain": [
       "<Figure size 864x432 with 1 Axes>"
      ]
     },
     "metadata": {
      "needs_background": "light"
     },
     "output_type": "display_data"
    }
   ],
   "source": [
    "#Now lets check which apps are being used to signup\n",
    "plt.figure(figsize=(12,6))\n",
    "signup_method_percentage=df_without_ndf.signup_method.value_counts()/df_without_ndf.shape[0]*100\n",
    "signup_method_percentage.plot(kind='bar')\n",
    "plt.title(\"Signup Method distribution among users\")\n",
    "plt.ylabel('% of users')\n",
    "plt.xticks(rotation='horizontal')\n",
    "# sns.countplot(x='signup_method',data=df_without_ndf, order=df_without_ndf.signup_method.value_counts().index)\n",
    "plt.show()"
   ]
  },
  {
   "cell_type": "markdown",
   "metadata": {
    "_uuid": "4e3f303a924a58bae315f53d7cbfd9493f763aec"
   },
   "source": [
    "More than 70% of the users use the basic signup method to register themselves on Airbnb, followed by Facebook. Users rarely use their Google account to register on Airbnb."
   ]
  },
  {
   "cell_type": "markdown",
   "metadata": {
    "_uuid": "4aeb4d5ffdaa7dcf0467ce0929f91952fd3b4cd9"
   },
   "source": [
    "##### 11. Which signup method is popular among users to register on Airbnb before booking their stay in the destination countries?"
   ]
  },
  {
   "cell_type": "code",
   "execution_count": 45,
   "metadata": {
    "_uuid": "4c84b31245a21b8a28fca51efab87b20a43f0799"
   },
   "outputs": [
    {
     "data": {
      "image/png": "[encoded data removed]",
      "text/plain": [
       "<Figure size 864x432 with 1 Axes>"
      ]
     },
     "metadata": {
      "needs_background": "light"
     },
     "output_type": "display_data"
    }
   ],
   "source": [
    "#Destination country based on signup app\n",
    "plt.figure(figsize=(12,6))\n",
    "sns.countplot(x='country_destination',data=df_without_ndf, order=df_without_ndf.country_destination.value_counts().index,\n",
    "             hue='signup_method', hue_order=['basic','facebook','google'])\n",
    "plt.ylabel(\"No. of users\")\n",
    "plt.title(\"Distribution of Signup Methods among the destination countries\")\n",
    "plt.legend(loc='upper right')\n",
    "\n",
    "plt.show()"
   ]
  },
  {
   "cell_type": "markdown",
   "metadata": {
    "_uuid": "1bcce421593019f219215a894c38af8b4e2135c3"
   },
   "source": [
    "Basic signup method is most common among users to signup into Airbnb to book any of the destination countries."
   ]
  },
  {
   "cell_type": "markdown",
   "metadata": {
    "_uuid": "f9b029b7392ccabbdd104477b1b2bf268e10ccaa"
   },
   "source": [
    "##### 12. Which is the first device used by users to access Airbnb?"
   ]
  },
  {
   "cell_type": "code",
   "execution_count": 46,
   "metadata": {
    "_uuid": "d6d19303c56effc9685a0f89194704d3ae456e8f"
   },
   "outputs": [
    {
     "data": {
      "image/png": "[encoded data removed]",
      "text/plain": [
       "<Figure size 1296x432 with 1 Axes>"
      ]
     },
     "metadata": {
      "needs_background": "light"
     },
     "output_type": "display_data"
    }
   ],
   "source": [
    "#First Device type distribution\n",
    "plt.figure(figsize=(18,6))\n",
    "first_device_type_percentage=df_without_ndf.first_device_type.value_counts()/df_without_ndf.shape[0]*100\n",
    "first_device_type_percentage.plot(kind='bar')\n",
    "# sns.countplot(x='first_device_type',data=df_without_ndf,order=df_without_ndf.first_device_type.value_counts().index)\n",
    "plt.ylabel(\"% of users\")\n",
    "plt.title(\"First Device type distribution among users\")\n",
    "plt.xticks(rotation='horizontal')\n",
    "plt.show()"
   ]
  },
  {
   "cell_type": "markdown",
   "metadata": {
    "_uuid": "de9f7ddb30f4a4fb5e8f6dd43cc011355b7bea3c"
   },
   "source": [
    "More than 40% of the users use Mac Desktop to access Airbnb. Also, Mac Desktop and Windows Desktop together constitute appoximately 80% of all the users who use Desktop as the first device to access Airbnb. This supports our earlier result that stated \"80% of users use Web as a signup app to register on Airbnb\"."
   ]
  },
  {
   "cell_type": "markdown",
   "metadata": {
    "_uuid": "a0cb6b67993f52cf72e576b95af20e378bf708d3"
   },
   "source": [
    "##### 13. Which device is used by the users first to book their destination countries?"
   ]
  },
  {
   "cell_type": "code",
   "execution_count": 47,
   "metadata": {
    "_uuid": "cd3c7934fb6e80087884f512ed9c0b38c4bf6dba"
   },
   "outputs": [
    {
     "data": {
      "image/png": "[encoded data removed]",
      "text/plain": [
       "<Figure size 1296x432 with 1 Axes>"
      ]
     },
     "metadata": {
      "needs_background": "light"
     },
     "output_type": "display_data"
    },
    {
     "data": {
      "image/png": "[encoded data removed]",
      "text/plain": [
       "<Figure size 1296x432 with 1 Axes>"
      ]
     },
     "metadata": {
      "needs_background": "light"
     },
     "output_type": "display_data"
    }
   ],
   "source": [
    "#First Device type distribition across destinations\n",
    "plt.figure(figsize=(18,6))\n",
    "sns.countplot(x='country_destination',data=df_without_ndf, order=df_without_ndf.country_destination.value_counts().index,\n",
    "             hue='first_device_type',hue_order=['Mac Desktop', 'Windows Desktop', 'iPhone', 'iPad', 'Other/Unknown', \n",
    "                                                'Android Phone','Desktop (Other)', 'Android Tablet', 'SmartPhone (Other)'])\n",
    "plt.ylabel(\"No. of users\")\n",
    "plt.title('Distribution of First Device type across destination countries')\n",
    "plt.legend(loc='upper right')\n",
    "\n",
    "plt.figure(figsize=(18,6))\n",
    "sns.countplot(x='country_destination',data=df_without_ndf_and_US, \n",
    "              order=df_without_ndf_and_US.country_destination.value_counts().index,\n",
    "              hue='first_device_type', hue_order=['Mac Desktop', 'Windows Desktop', 'iPhone', 'iPad', 'Other/Unknown', \n",
    "                                                'Android Phone','Desktop (Other)', 'Android Tablet', 'SmartPhone (Other)'])\n",
    "plt.ylabel(\"No. of users\")\n",
    "plt.title('Distribution of First Device type across destination countries excluding US')\n",
    "plt.legend(loc='upper right')\n",
    "plt.show()"
   ]
  },
  {
   "cell_type": "markdown",
   "metadata": {
    "_uuid": "c30562b87cadd2784a5b1c01bb24637c693109ae"
   },
   "source": [
    "Mac Desktop and Windows Desktop have been the most popular first devices used by users to access Airbnb.<br>\n",
    "\n",
    "iPad is used more than iPhone as a first device by the users who book their places in countries apart from US and other (not mentioned) countries."
   ]
  },
  {
   "cell_type": "markdown",
   "metadata": {
    "_uuid": "9fcbcb5fabadf7b9941109c9cee02bcac24f931c"
   },
   "source": [
    "##### 14. Which is the most popular browser among users to access Airbnb?"
   ]
  },
  {
   "cell_type": "code",
   "execution_count": 48,
   "metadata": {
    "_uuid": "a446fee015933c9136552b885e8b100e0870fb60"
   },
   "outputs": [
    {
     "data": {
      "image/png": "[encoded data removed]",
      "text/plain": [
       "<Figure size 1296x432 with 1 Axes>"
      ]
     },
     "metadata": {
      "needs_background": "light"
     },
     "output_type": "display_data"
    }
   ],
   "source": [
    "#First Browser distribution\n",
    "plt.figure(figsize=(18,6))\n",
    "first_browser_percentage=df_without_ndf.first_browser.value_counts()/df_without_ndf.shape[0]*100\n",
    "first_browser_percentage.plot(kind='bar')\n",
    "# sns.countplot(x='first_browser', data=df_without_ndf, order=df_without_ndf.first_browser.value_counts().index)\n",
    "plt.ylabel(\"% of users\")\n",
    "plt.show()"
   ]
  },
  {
   "cell_type": "markdown",
   "metadata": {
    "_uuid": "953b38ca2b1c513b361518548c5372b54f3b94df"
   },
   "source": [
    "35% of users use Chrome to access Airbnb, followed by Safari and Firefox. \n",
    "\n",
    "Earlier, we observed that Mac Desktop was used by most of our users, followed by Windows Desktop, iPhone and iPad. This means that Chrome is preferred over all other browsers on any device type, be it Apple devices or Windows Desktop."
   ]
  },
  {
   "cell_type": "markdown",
   "metadata": {
    "_uuid": "30ce7dd4b2be89bdb18d077579b67e8cfa11f249"
   },
   "source": [
    "##### 15. How many pages do users access before landing on Airbnb page?"
   ]
  },
  {
   "cell_type": "code",
   "execution_count": 49,
   "metadata": {
    "_uuid": "5e092517c5219a7ee056ae428ed1b15f855278dd"
   },
   "outputs": [
    {
     "data": {
      "image/png": "[encoded data removed]",
      "text/plain": [
       "<Figure size 864x432 with 1 Axes>"
      ]
     },
     "metadata": {
      "needs_background": "light"
     },
     "output_type": "display_data"
    }
   ],
   "source": [
    "plt.figure(figsize=(12,6))\n",
    "signup_flow_percentage=df_without_ndf.signup_flow.value_counts()/df_without_ndf.shape[0]*100\n",
    "signup_flow_percentage.plot(kind='bar')\n",
    "plt.title('Pages accessed before landing on Airbnb page')\n",
    "plt.ylabel('% of users')\n",
    "plt.xlabel('Page no.')\n",
    "# sns.countplot(x='signup_flow',data=df_without_ndf)\n",
    "plt.show()"
   ]
  },
  {
   "cell_type": "markdown",
   "metadata": {
    "_uuid": "f5b5687b7d52c97a06ca43fc7e678c330916006f"
   },
   "source": [
    "We can see that more than 75% of the users land on Airbnb page directly.One interesting this to note is that there are around 5-6% of users who land on Airbnb page after accessing 25 pages. The reason for this might be that they start looking for options on other competitor websites first and then while searching, they might be popped up by an advertisement of airbnb somewhere with some attractive deals which makes them visit the Airbnb page."
   ]
  },
  {
   "cell_type": "markdown",
   "metadata": {
    "_uuid": "b34d8219c1923d3a3b890d2217e4456ceda9254f"
   },
   "source": [
    "##### 16. How has the customer base been expanding for Airbnb over time?"
   ]
  },
  {
   "cell_type": "code",
   "execution_count": 50,
   "metadata": {
    "_uuid": "d69da6ddc8348d250d34a3a007e2ec8fb03eb8a8"
   },
   "outputs": [
    {
     "data": {
      "image/png": "[encoded data removed]",
      "text/plain": [
       "<Figure size 864x432 with 1 Axes>"
      ]
     },
     "metadata": {
      "needs_background": "light"
     },
     "output_type": "display_data"
    }
   ],
   "source": [
    "#New account created over time\n",
    "plt.figure(figsize=(12,6))\n",
    "(df_without_ndf.date_account_created.value_counts().plot(kind='line',linewidth=1))\n",
    "plt.ylabel(\"No. of Customers\")\n",
    "plt.xlabel(\"Date\")\n",
    "plt.show()"
   ]
  },
  {
   "cell_type": "markdown",
   "metadata": {
    "_uuid": "998dab83a8f1964a5875c9ce7a4e556223b398a1"
   },
   "source": [
    "There was a huge rise in user registration after 2014. This was the time when Airbnb's business started to boom and since then it has expanded at a very high rate."
   ]
  },
  {
   "cell_type": "markdown",
   "metadata": {
    "_uuid": "b844c3e1027916845adc0f1e87d99ddef8e7d8f0"
   },
   "source": [
    "### Now let's get into the prediction part:"
   ]
  },
  {
   "cell_type": "markdown",
   "metadata": {
    "_uuid": "e28df873b41b2ac9b67cdfc9db0e3c9efdd9a1f8"
   },
   "source": [
    "#### Feature Engineering"
   ]
  },
  {
   "cell_type": "markdown",
   "metadata": {
    "_uuid": "2cbe3ece7c4a615531a9cc1c232f02d4271a3316"
   },
   "source": [
    "a. Create Training Dataset without 'NDF' as country_destination and Test Dataset."
   ]
  },
  {
   "cell_type": "code",
   "execution_count": 51,
   "metadata": {
    "_uuid": "f70abd78010bdc9ca8effbd3d4124e2f6dca2f7e"
   },
   "outputs": [],
   "source": [
    "df_train1=df_train[df_train['country_destination']!='NDF']\n",
    "df_train1.head()\n",
    "x_test=df_test"
   ]
  },
  {
   "cell_type": "markdown",
   "metadata": {
    "_uuid": "514032cdfa9a0abc2f00349da876fb8705dbac41"
   },
   "source": [
    "b. Clean the test dataset in the similar way we did for the train dataset."
   ]
  },
  {
   "cell_type": "code",
   "execution_count": 52,
   "metadata": {
    "_uuid": "61d074e442152cc22afa9eef2c0d1d1f886ffc78"
   },
   "outputs": [],
   "source": [
    "#Replacing the unknowns\n",
    "df_test.first_browser.replace('-unknown-', np.nan, inplace=True)\n",
    "df_test.gender.replace('-unknown-', np.nan, inplace=True)\n",
    "df_test.language.replace('-unknown-', np.nan, inplace=True)"
   ]
  },
  {
   "cell_type": "code",
   "execution_count": 53,
   "metadata": {
    "_uuid": "e94b8f0452ee7e3845d124defcb1496e80ef900d"
   },
   "outputs": [
    {
     "name": "stdout",
     "output_type": "stream",
     "text": [
      "count    32887.000000\n",
      "mean        34.242193\n",
      "std         11.478202\n",
      "min         18.000000\n",
      "25%         26.000000\n",
      "50%         31.000000\n",
      "75%         39.000000\n",
      "max        100.000000\n",
      "Name: age, dtype: float64\n"
     ]
    }
   ],
   "source": [
    "#Fixing the age issues\n",
    "df_abnormal_age_test=df_test['age']>150\n",
    "df_test.loc[df_abnormal_age_test,'age']=2015 - df_test.loc[df_abnormal_age_test,'age']\n",
    "df_test.loc[df_test.age<18,'age']=np.nan\n",
    "df_test.loc[df_test.age>100,'age']=np.nan\n",
    "print(df_test.age.describe())"
   ]
  },
  {
   "cell_type": "markdown",
   "metadata": {
    "_uuid": "264bbf0eb0dd2720310813da12e92c404c71616f"
   },
   "source": [
    "c. Segregate the columns date_account_created and timestamp_first_active into year, month and day for both train and test dataset and then drop the actual columns"
   ]
  },
  {
   "cell_type": "code",
   "execution_count": 54,
   "metadata": {
    "_uuid": "9554d7eeb75b4e2dc11c0c1e4ad14901dae85649"
   },
   "outputs": [],
   "source": [
    "#For date_account_created\n",
    "df_train1['date_account_created']=pd.to_datetime(df_train1['date_account_created'])\n",
    "df_train1['date_account_created_year']=df_train1.date_account_created.dt.year\n",
    "df_train1['date_account_created_month']=df_train1.date_account_created.dt.month\n",
    "df_train1['date_account_created_day']=df_train1.date_account_created.dt.day\n",
    "\n",
    "df_test['date_account_created']=pd.to_datetime(df_test['date_account_created'])\n",
    "df_test['date_account_created_year']=df_test.date_account_created.dt.year\n",
    "df_test['date_account_created_month']=df_test.date_account_created.dt.month\n",
    "df_test['date_account_created_day']=df_test.date_account_created.dt.day"
   ]
  },
  {
   "cell_type": "code",
   "execution_count": 55,
   "metadata": {
    "_uuid": "68687522df274fdce3af3a8e5fbfc27b8ac3eadc"
   },
   "outputs": [],
   "source": [
    "#For timestamp_first_active\n",
    "df_train1['timestamp_first_active']=pd.to_datetime((df_train1.timestamp_first_active//1000000),format='%Y%m%d')\n",
    "df_train1['timestamp_first_active_year']=df_train1.timestamp_first_active.dt.year\n",
    "df_train1['timestamp_first_active_month']=df_train1.timestamp_first_active.dt.month\n",
    "df_train1['timestamp_first_active_day']=df_train1.timestamp_first_active.dt.day\n",
    "\n",
    "df_test['timestamp_first_active']=pd.to_datetime((df_test.timestamp_first_active//1000000),format='%Y%m%d')\n",
    "df_test['timestamp_first_active_year']=df_test.timestamp_first_active.dt.year\n",
    "df_test['timestamp_first_active_month']=df_test.timestamp_first_active.dt.month\n",
    "df_test['timestamp_first_active_day']=df_test.timestamp_first_active.dt.day"
   ]
  },
  {
   "cell_type": "code",
   "execution_count": 56,
   "metadata": {
    "_uuid": "eb75f26b098432f1c7652a2d6af81b6841bbfa41"
   },
   "outputs": [],
   "source": [
    "#Drop the actual columns\n",
    "df_train1=df_train1.drop(['date_account_created','timestamp_first_active'], axis=1)\n",
    "df_test=df_test.drop(['date_account_created','timestamp_first_active'], axis=1)"
   ]
  },
  {
   "cell_type": "markdown",
   "metadata": {
    "_uuid": "4bceb49a94ef78eed6734d67d37f33fe7fb61d93"
   },
   "source": [
    "d. Replace the NULL values in age with median"
   ]
  },
  {
   "cell_type": "code",
   "execution_count": 57,
   "metadata": {
    "_uuid": "2c802e1bb09c3aea3004c7f895a7029add4b4a0b"
   },
   "outputs": [],
   "source": [
    "import statistics\n",
    "df_train1['age'].fillna(statistics.median(df_train1.age), inplace=True)\n",
    "df_test['age'].fillna(statistics.median(df_train1.age),inplace=True)"
   ]
  },
  {
   "cell_type": "markdown",
   "metadata": {
    "_uuid": "b4d640d0774023fbeb053d389a46e500b207f243"
   },
   "source": [
    "e. Create the target variable and drop it from train dataset"
   ]
  },
  {
   "cell_type": "code",
   "execution_count": 58,
   "metadata": {
    "_uuid": "9f654996bcc3bda8c3baef3562b8b67dd9fb46f1"
   },
   "outputs": [],
   "source": [
    "y_train=df_train1['country_destination']\n",
    "x_train=df_train1.drop(['country_destination'], axis=1)"
   ]
  },
  {
   "cell_type": "markdown",
   "metadata": {
    "_uuid": "57daf27b48cd97c86dbf20c492fa05e284dd7d7b"
   },
   "source": [
    "f. Drop the unwanted columns from both the datasets"
   ]
  },
  {
   "cell_type": "code",
   "execution_count": 59,
   "metadata": {
    "_uuid": "637c5646125de7bb032bf9ea6b1521a37885dea7"
   },
   "outputs": [],
   "source": [
    "id_test=x_test['id']\n",
    "x_train=x_train.drop(['date_first_booking'], axis=1)\n",
    "x_test=df_test.drop(['date_first_booking'], axis=1)"
   ]
  },
  {
   "cell_type": "markdown",
   "metadata": {
    "_uuid": "ed246ab7e55b8b4c09c78a0d11f1ea75611ad89c"
   },
   "source": [
    "g. Verify the total rows and columns in both training and test datasets."
   ]
  },
  {
   "cell_type": "code",
   "execution_count": 60,
   "metadata": {
    "_uuid": "200a60bb203049ca7d6f8bb0aca2b5285fce07df"
   },
   "outputs": [
    {
     "name": "stdout",
     "output_type": "stream",
     "text": [
      "Train Dataset: (88908, 18)\n",
      "Test Dataset: (62096, 18)\n"
     ]
    }
   ],
   "source": [
    "print(\"Train Dataset: \"+str(x_train.shape))\n",
    "print(\"Test Dataset: \"+str(x_test.shape))"
   ]
  },
  {
   "cell_type": "markdown",
   "metadata": {
    "_uuid": "4670e7c76ddf32df2ed57de98a4e2dad582abdd4"
   },
   "source": [
    "h. Overview of Train and Test Dataset"
   ]
  },
  {
   "cell_type": "code",
   "execution_count": 61,
   "metadata": {
    "_uuid": "a0f63c0b8a41e8f732bfbb25c9b3a7873967355a"
   },
   "outputs": [
    {
     "name": "stdout",
     "output_type": "stream",
     "text": [
      "Train Dataset:\n"
     ]
    },
    {
     "data": {
      "text/html": [
       "<div>\n",
       "<style scoped>\n",
       "    .dataframe tbody tr th:only-of-type {\n",
       "        vertical-align: middle;\n",
       "    }\n",
       "\n",
       "    .dataframe tbody tr th {\n",
       "        vertical-align: top;\n",
       "    }\n",
       "\n",
       "    .dataframe thead th {\n",
       "        text-align: right;\n",
       "    }\n",
       "</style>\n",
       "<table border=\"1\" class=\"dataframe\">\n",
       "  <thead>\n",
       "    <tr style=\"text-align: right;\">\n",
       "      <th></th>\n",
       "      <th>id</th>\n",
       "      <th>gender</th>\n",
       "      <th>age</th>\n",
       "      <th>signup_method</th>\n",
       "      <th>signup_flow</th>\n",
       "      <th>language</th>\n",
       "      <th>affiliate_channel</th>\n",
       "      <th>affiliate_provider</th>\n",
       "      <th>first_affiliate_tracked</th>\n",
       "      <th>signup_app</th>\n",
       "      <th>first_device_type</th>\n",
       "      <th>first_browser</th>\n",
       "      <th>date_account_created_year</th>\n",
       "      <th>date_account_created_month</th>\n",
       "      <th>date_account_created_day</th>\n",
       "      <th>timestamp_first_active_year</th>\n",
       "      <th>timestamp_first_active_month</th>\n",
       "      <th>timestamp_first_active_day</th>\n",
       "    </tr>\n",
       "  </thead>\n",
       "  <tbody>\n",
       "    <tr>\n",
       "      <th>2</th>\n",
       "      <td>4ft3gnwmtx</td>\n",
       "      <td>FEMALE</td>\n",
       "      <td>56.0</td>\n",
       "      <td>basic</td>\n",
       "      <td>3</td>\n",
       "      <td>en</td>\n",
       "      <td>direct</td>\n",
       "      <td>direct</td>\n",
       "      <td>untracked</td>\n",
       "      <td>Web</td>\n",
       "      <td>Windows Desktop</td>\n",
       "      <td>IE</td>\n",
       "      <td>2010</td>\n",
       "      <td>9</td>\n",
       "      <td>28</td>\n",
       "      <td>2009</td>\n",
       "      <td>6</td>\n",
       "      <td>9</td>\n",
       "    </tr>\n",
       "    <tr>\n",
       "      <th>3</th>\n",
       "      <td>bjjt8pjhuk</td>\n",
       "      <td>FEMALE</td>\n",
       "      <td>42.0</td>\n",
       "      <td>facebook</td>\n",
       "      <td>0</td>\n",
       "      <td>en</td>\n",
       "      <td>direct</td>\n",
       "      <td>direct</td>\n",
       "      <td>untracked</td>\n",
       "      <td>Web</td>\n",
       "      <td>Mac Desktop</td>\n",
       "      <td>Firefox</td>\n",
       "      <td>2011</td>\n",
       "      <td>12</td>\n",
       "      <td>5</td>\n",
       "      <td>2009</td>\n",
       "      <td>10</td>\n",
       "      <td>31</td>\n",
       "    </tr>\n",
       "    <tr>\n",
       "      <th>4</th>\n",
       "      <td>87mebub9p4</td>\n",
       "      <td>NaN</td>\n",
       "      <td>41.0</td>\n",
       "      <td>basic</td>\n",
       "      <td>0</td>\n",
       "      <td>en</td>\n",
       "      <td>direct</td>\n",
       "      <td>direct</td>\n",
       "      <td>untracked</td>\n",
       "      <td>Web</td>\n",
       "      <td>Mac Desktop</td>\n",
       "      <td>Chrome</td>\n",
       "      <td>2010</td>\n",
       "      <td>9</td>\n",
       "      <td>14</td>\n",
       "      <td>2009</td>\n",
       "      <td>12</td>\n",
       "      <td>8</td>\n",
       "    </tr>\n",
       "    <tr>\n",
       "      <th>5</th>\n",
       "      <td>osr2jwljor</td>\n",
       "      <td>NaN</td>\n",
       "      <td>28.5</td>\n",
       "      <td>basic</td>\n",
       "      <td>0</td>\n",
       "      <td>en</td>\n",
       "      <td>other</td>\n",
       "      <td>other</td>\n",
       "      <td>omg</td>\n",
       "      <td>Web</td>\n",
       "      <td>Mac Desktop</td>\n",
       "      <td>Chrome</td>\n",
       "      <td>2010</td>\n",
       "      <td>1</td>\n",
       "      <td>1</td>\n",
       "      <td>2010</td>\n",
       "      <td>1</td>\n",
       "      <td>1</td>\n",
       "    </tr>\n",
       "    <tr>\n",
       "      <th>6</th>\n",
       "      <td>lsw9q7uk0j</td>\n",
       "      <td>FEMALE</td>\n",
       "      <td>46.0</td>\n",
       "      <td>basic</td>\n",
       "      <td>0</td>\n",
       "      <td>en</td>\n",
       "      <td>other</td>\n",
       "      <td>craigslist</td>\n",
       "      <td>untracked</td>\n",
       "      <td>Web</td>\n",
       "      <td>Mac Desktop</td>\n",
       "      <td>Safari</td>\n",
       "      <td>2010</td>\n",
       "      <td>1</td>\n",
       "      <td>2</td>\n",
       "      <td>2010</td>\n",
       "      <td>1</td>\n",
       "      <td>2</td>\n",
       "    </tr>\n",
       "  </tbody>\n",
       "</table>\n",
       "</div>"
      ],
      "text/plain": [
       "           id  gender   age signup_method  signup_flow language  \\\n",
       "2  4ft3gnwmtx  FEMALE  56.0         basic            3       en   \n",
       "3  bjjt8pjhuk  FEMALE  42.0      facebook            0       en   \n",
       "4  87mebub9p4     NaN  41.0         basic            0       en   \n",
       "5  osr2jwljor     NaN  28.5         basic            0       en   \n",
       "6  lsw9q7uk0j  FEMALE  46.0         basic            0       en   \n",
       "\n",
       "  affiliate_channel affiliate_provider first_affiliate_tracked signup_app  \\\n",
       "2            direct             direct               untracked        Web   \n",
       "3            direct             direct               untracked        Web   \n",
       "4            direct             direct               untracked        Web   \n",
       "5             other              other                     omg        Web   \n",
       "6             other         craigslist               untracked        Web   \n",
       "\n",
       "  first_device_type first_browser  date_account_created_year  \\\n",
       "2   Windows Desktop            IE                       2010   \n",
       "3       Mac Desktop       Firefox                       2011   \n",
       "4       Mac Desktop        Chrome                       2010   \n",
       "5       Mac Desktop        Chrome                       2010   \n",
       "6       Mac Desktop        Safari                       2010   \n",
       "\n",
       "   date_account_created_month  date_account_created_day  \\\n",
       "2                           9                        28   \n",
       "3                          12                         5   \n",
       "4                           9                        14   \n",
       "5                           1                         1   \n",
       "6                           1                         2   \n",
       "\n",
       "   timestamp_first_active_year  timestamp_first_active_month  \\\n",
       "2                         2009                             6   \n",
       "3                         2009                            10   \n",
       "4                         2009                            12   \n",
       "5                         2010                             1   \n",
       "6                         2010                             1   \n",
       "\n",
       "   timestamp_first_active_day  \n",
       "2                           9  \n",
       "3                          31  \n",
       "4                           8  \n",
       "5                           1  \n",
       "6                           2  "
      ]
     },
     "execution_count": 61,
     "metadata": {},
     "output_type": "execute_result"
    }
   ],
   "source": [
    "print('Train Dataset:')\n",
    "x_train.head()"
   ]
  },
  {
   "cell_type": "code",
   "execution_count": 62,
   "metadata": {
    "_uuid": "a5870badac0a205d4f6dcfd56ba4aadf612cbdf2"
   },
   "outputs": [
    {
     "name": "stdout",
     "output_type": "stream",
     "text": [
      "Test Dataset:\n"
     ]
    },
    {
     "data": {
      "text/html": [
       "<div>\n",
       "<style scoped>\n",
       "    .dataframe tbody tr th:only-of-type {\n",
       "        vertical-align: middle;\n",
       "    }\n",
       "\n",
       "    .dataframe tbody tr th {\n",
       "        vertical-align: top;\n",
       "    }\n",
       "\n",
       "    .dataframe thead th {\n",
       "        text-align: right;\n",
       "    }\n",
       "</style>\n",
       "<table border=\"1\" class=\"dataframe\">\n",
       "  <thead>\n",
       "    <tr style=\"text-align: right;\">\n",
       "      <th></th>\n",
       "      <th>id</th>\n",
       "      <th>gender</th>\n",
       "      <th>age</th>\n",
       "      <th>signup_method</th>\n",
       "      <th>signup_flow</th>\n",
       "      <th>language</th>\n",
       "      <th>affiliate_channel</th>\n",
       "      <th>affiliate_provider</th>\n",
       "      <th>first_affiliate_tracked</th>\n",
       "      <th>signup_app</th>\n",
       "      <th>first_device_type</th>\n",
       "      <th>first_browser</th>\n",
       "      <th>date_account_created_year</th>\n",
       "      <th>date_account_created_month</th>\n",
       "      <th>date_account_created_day</th>\n",
       "      <th>timestamp_first_active_year</th>\n",
       "      <th>timestamp_first_active_month</th>\n",
       "      <th>timestamp_first_active_day</th>\n",
       "    </tr>\n",
       "  </thead>\n",
       "  <tbody>\n",
       "    <tr>\n",
       "      <th>0</th>\n",
       "      <td>5uwns89zht</td>\n",
       "      <td>FEMALE</td>\n",
       "      <td>35.0</td>\n",
       "      <td>facebook</td>\n",
       "      <td>0</td>\n",
       "      <td>en</td>\n",
       "      <td>direct</td>\n",
       "      <td>direct</td>\n",
       "      <td>untracked</td>\n",
       "      <td>Moweb</td>\n",
       "      <td>iPhone</td>\n",
       "      <td>Mobile Safari</td>\n",
       "      <td>2014</td>\n",
       "      <td>7</td>\n",
       "      <td>1</td>\n",
       "      <td>2014</td>\n",
       "      <td>7</td>\n",
       "      <td>1</td>\n",
       "    </tr>\n",
       "    <tr>\n",
       "      <th>1</th>\n",
       "      <td>jtl0dijy2j</td>\n",
       "      <td>NaN</td>\n",
       "      <td>30.0</td>\n",
       "      <td>basic</td>\n",
       "      <td>0</td>\n",
       "      <td>en</td>\n",
       "      <td>direct</td>\n",
       "      <td>direct</td>\n",
       "      <td>untracked</td>\n",
       "      <td>Moweb</td>\n",
       "      <td>iPhone</td>\n",
       "      <td>Mobile Safari</td>\n",
       "      <td>2014</td>\n",
       "      <td>7</td>\n",
       "      <td>1</td>\n",
       "      <td>2014</td>\n",
       "      <td>7</td>\n",
       "      <td>1</td>\n",
       "    </tr>\n",
       "    <tr>\n",
       "      <th>2</th>\n",
       "      <td>xx0ulgorjt</td>\n",
       "      <td>NaN</td>\n",
       "      <td>30.0</td>\n",
       "      <td>basic</td>\n",
       "      <td>0</td>\n",
       "      <td>en</td>\n",
       "      <td>direct</td>\n",
       "      <td>direct</td>\n",
       "      <td>linked</td>\n",
       "      <td>Web</td>\n",
       "      <td>Windows Desktop</td>\n",
       "      <td>Chrome</td>\n",
       "      <td>2014</td>\n",
       "      <td>7</td>\n",
       "      <td>1</td>\n",
       "      <td>2014</td>\n",
       "      <td>7</td>\n",
       "      <td>1</td>\n",
       "    </tr>\n",
       "    <tr>\n",
       "      <th>3</th>\n",
       "      <td>6c6puo6ix0</td>\n",
       "      <td>NaN</td>\n",
       "      <td>30.0</td>\n",
       "      <td>basic</td>\n",
       "      <td>0</td>\n",
       "      <td>en</td>\n",
       "      <td>direct</td>\n",
       "      <td>direct</td>\n",
       "      <td>linked</td>\n",
       "      <td>Web</td>\n",
       "      <td>Windows Desktop</td>\n",
       "      <td>IE</td>\n",
       "      <td>2014</td>\n",
       "      <td>7</td>\n",
       "      <td>1</td>\n",
       "      <td>2014</td>\n",
       "      <td>7</td>\n",
       "      <td>1</td>\n",
       "    </tr>\n",
       "    <tr>\n",
       "      <th>4</th>\n",
       "      <td>czqhjk3yfe</td>\n",
       "      <td>NaN</td>\n",
       "      <td>30.0</td>\n",
       "      <td>basic</td>\n",
       "      <td>0</td>\n",
       "      <td>en</td>\n",
       "      <td>direct</td>\n",
       "      <td>direct</td>\n",
       "      <td>untracked</td>\n",
       "      <td>Web</td>\n",
       "      <td>Mac Desktop</td>\n",
       "      <td>Safari</td>\n",
       "      <td>2014</td>\n",
       "      <td>7</td>\n",
       "      <td>1</td>\n",
       "      <td>2014</td>\n",
       "      <td>7</td>\n",
       "      <td>1</td>\n",
       "    </tr>\n",
       "  </tbody>\n",
       "</table>\n",
       "</div>"
      ],
      "text/plain": [
       "           id  gender   age signup_method  signup_flow language  \\\n",
       "0  5uwns89zht  FEMALE  35.0      facebook            0       en   \n",
       "1  jtl0dijy2j     NaN  30.0         basic            0       en   \n",
       "2  xx0ulgorjt     NaN  30.0         basic            0       en   \n",
       "3  6c6puo6ix0     NaN  30.0         basic            0       en   \n",
       "4  czqhjk3yfe     NaN  30.0         basic            0       en   \n",
       "\n",
       "  affiliate_channel affiliate_provider first_affiliate_tracked signup_app  \\\n",
       "0            direct             direct               untracked      Moweb   \n",
       "1            direct             direct               untracked      Moweb   \n",
       "2            direct             direct                  linked        Web   \n",
       "3            direct             direct                  linked        Web   \n",
       "4            direct             direct               untracked        Web   \n",
       "\n",
       "  first_device_type  first_browser  date_account_created_year  \\\n",
       "0            iPhone  Mobile Safari                       2014   \n",
       "1            iPhone  Mobile Safari                       2014   \n",
       "2   Windows Desktop         Chrome                       2014   \n",
       "3   Windows Desktop             IE                       2014   \n",
       "4       Mac Desktop         Safari                       2014   \n",
       "\n",
       "   date_account_created_month  date_account_created_day  \\\n",
       "0                           7                         1   \n",
       "1                           7                         1   \n",
       "2                           7                         1   \n",
       "3                           7                         1   \n",
       "4                           7                         1   \n",
       "\n",
       "   timestamp_first_active_year  timestamp_first_active_month  \\\n",
       "0                         2014                             7   \n",
       "1                         2014                             7   \n",
       "2                         2014                             7   \n",
       "3                         2014                             7   \n",
       "4                         2014                             7   \n",
       "\n",
       "   timestamp_first_active_day  \n",
       "0                           1  \n",
       "1                           1  \n",
       "2                           1  \n",
       "3                           1  \n",
       "4                           1  "
      ]
     },
     "execution_count": 62,
     "metadata": {},
     "output_type": "execute_result"
    }
   ],
   "source": [
    "print('Test Dataset:')\n",
    "x_test.head()"
   ]
  },
  {
   "cell_type": "markdown",
   "metadata": {
    "_uuid": "37050344507e406b6e5e503763ae783cbf3b314d"
   },
   "source": [
    "i. Encoding the categorical features using one hot encoding"
   ]
  },
  {
   "cell_type": "code",
   "execution_count": 63,
   "metadata": {
    "_uuid": "13fd111a6e57bf6ae3a2eae842d65b3e2c86fe2b"
   },
   "outputs": [],
   "source": [
    "#Merge x_train and y_train dataset\n",
    "merge_train_test=pd.concat([x_train,x_test],axis=0)"
   ]
  },
  {
   "cell_type": "code",
   "execution_count": 64,
   "metadata": {
    "_uuid": "acfeab7f4fdd42f576f0deb6177041e8855a9880"
   },
   "outputs": [],
   "source": [
    "#Use get_dummies function for one hot encoding\n",
    "categorical_columns=['gender', 'signup_method', 'signup_flow', 'language',\n",
    "       'affiliate_channel', 'affiliate_provider', 'first_affiliate_tracked',\n",
    "       'signup_app', 'first_device_type', 'first_browser',\n",
    "       'date_account_created_year', 'date_account_created_month',\n",
    "       'date_account_created_day', 'timestamp_first_active_year',\n",
    "       'timestamp_first_active_month', 'timestamp_first_active_day']\n",
    "merge_train_test1=pd.get_dummies(merge_train_test,columns=categorical_columns)"
   ]
  },
  {
   "cell_type": "code",
   "execution_count": 65,
   "metadata": {
    "_uuid": "8023e77a852d38e2e5a7bada944967d5f995e587"
   },
   "outputs": [],
   "source": [
    "#Set id as Index\n",
    "merge_train_test2=merge_train_test1.set_index('id')"
   ]
  },
  {
   "cell_type": "markdown",
   "metadata": {
    "_uuid": "8fc34ad3c73c8fefed522cd880e51f66fe9b244c"
   },
   "source": [
    "j. Creating the new training and test datasets with encoded categorical features"
   ]
  },
  {
   "cell_type": "code",
   "execution_count": 66,
   "metadata": {
    "_uuid": "be718e7a26b329a839fbde80361955735d4296d3"
   },
   "outputs": [
    {
     "data": {
      "text/plain": [
       "(88908, 234)"
      ]
     },
     "execution_count": 66,
     "metadata": {},
     "output_type": "execute_result"
    }
   ],
   "source": [
    "x_train2=merge_train_test2.loc[x_train['id']]\n",
    "x_train2.shape"
   ]
  },
  {
   "cell_type": "code",
   "execution_count": 67,
   "metadata": {
    "_uuid": "2ba39e70799df8fa42ec40e517cdbdf1193207bb",
    "scrolled": true
   },
   "outputs": [
    {
     "data": {
      "text/plain": [
       "(62096, 234)"
      ]
     },
     "execution_count": 67,
     "metadata": {},
     "output_type": "execute_result"
    }
   ],
   "source": [
    "x_test2=merge_train_test2.loc[x_test['id']]\n",
    "x_test2.shape"
   ]
  },
  {
   "cell_type": "markdown",
   "metadata": {
    "_uuid": "31e876ab8c98ac7fb65ae31addd1b1bca0f942b7"
   },
   "source": [
    "k. Encoding the target variable using label encoder"
   ]
  },
  {
   "cell_type": "code",
   "execution_count": 68,
   "metadata": {
    "_uuid": "c085c4eb2cd0d8a3c01acdc7e35342a91faad20b"
   },
   "outputs": [],
   "source": [
    "from sklearn.preprocessing import LabelEncoder\n",
    "label_encoder=LabelEncoder()\n",
    "y_train2=label_encoder.fit_transform(y_train)"
   ]
  },
  {
   "cell_type": "markdown",
   "metadata": {},
   "source": [
    "#### Using Random Forest to predict the top five future destination bookings of the users present in the test dataset:\n",
    "\n",
    "##### What is Random Forest?\n",
    "Random forest is a supervised machine learning algorithm that builds multiple decision trees and merges them together to get a more accurate and stable prediction. The forest (set of mutiple decision trees) it builds is trained with a bagging method. Thus, it adds additional randomness to the model, while growing the trees.\n",
    "\n",
    "You can read more about Random forest over [here]('https://towardsdatascience.com/the-random-forest-algorithm-d457d499ffcd')."
   ]
  },
  {
   "cell_type": "code",
   "execution_count": 69,
   "metadata": {},
   "outputs": [],
   "source": [
    "from sklearn.ensemble import RandomForestClassifier\n",
    "from sklearn.metrics import accuracy_score"
   ]
  },
  {
   "cell_type": "code",
   "execution_count": 70,
   "metadata": {},
   "outputs": [],
   "source": [
    "clf_rf=RandomForestClassifier(n_estimators=1000,min_samples_split=20,n_jobs=-1,max_features=50,random_state=42)"
   ]
  },
  {
   "cell_type": "code",
   "execution_count": 71,
   "metadata": {},
   "outputs": [
    {
     "data": {
      "text/plain": [
       "RandomForestClassifier(max_features=50, min_samples_split=20, n_estimators=1000,\n",
       "                       n_jobs=-1, random_state=42)"
      ]
     },
     "execution_count": 71,
     "metadata": {},
     "output_type": "execute_result"
    }
   ],
   "source": [
    "clf_rf.fit(x_train2,y_train2)"
   ]
  },
  {
   "cell_type": "code",
   "execution_count": 72,
   "metadata": {},
   "outputs": [],
   "source": [
    "y_pred=clf_rf.predict_proba(x_test2)"
   ]
  },
  {
   "cell_type": "markdown",
   "metadata": {
    "_uuid": "9b5bd463d84ce0cce55fa580c650e932dc3a3d7c"
   },
   "source": [
    "Create an output file listing top 5 predicted destinations for each user"
   ]
  },
  {
   "cell_type": "code",
   "execution_count": 73,
   "metadata": {
    "_uuid": "0b0496bdcf7668e5e037dbc5c7f7f92821653c3c"
   },
   "outputs": [],
   "source": [
    "ids = []  #list of ids\n",
    "countries = []  #list of countries\n",
    "for i in range(len(id_test)):\n",
    "    idr = id_test[i]\n",
    "    ids += [idr] * 5\n",
    "    countries += label_encoder.inverse_transform(np.argsort(y_pred[i])[::-1])[:5].tolist()\n",
    "\n",
    "pred_df = pd.DataFrame(np.column_stack((ids, countries)), columns=['id', 'country'])"
   ]
  },
  {
   "cell_type": "markdown",
   "metadata": {},
   "source": [
    "Merge the Test dataset with the predicted countries"
   ]
  },
  {
   "cell_type": "code",
   "execution_count": 74,
   "metadata": {},
   "outputs": [],
   "source": [
    "pred_df_data=pd.merge(pred_df,x_test,on='id')\n",
    "pred_df_data.reset_index(drop=True, inplace=True)"
   ]
  },
  {
   "cell_type": "markdown",
   "metadata": {
    "_uuid": "c91f3d9b80a71eac544e52b0b21b9a66f4426af6"
   },
   "source": [
    "An overiew for the first 5 Users"
   ]
  },
  {
   "cell_type": "code",
   "execution_count": 75,
   "metadata": {},
   "outputs": [
    {
     "data": {
      "text/html": [
       "<div>\n",
       "<style scoped>\n",
       "    .dataframe tbody tr th:only-of-type {\n",
       "        vertical-align: middle;\n",
       "    }\n",
       "\n",
       "    .dataframe tbody tr th {\n",
       "        vertical-align: top;\n",
       "    }\n",
       "\n",
       "    .dataframe thead th {\n",
       "        text-align: right;\n",
       "    }\n",
       "</style>\n",
       "<table border=\"1\" class=\"dataframe\">\n",
       "  <thead>\n",
       "    <tr style=\"text-align: right;\">\n",
       "      <th></th>\n",
       "      <th>id</th>\n",
       "      <th>country</th>\n",
       "      <th>gender</th>\n",
       "      <th>age</th>\n",
       "      <th>signup_method</th>\n",
       "      <th>signup_flow</th>\n",
       "      <th>language</th>\n",
       "      <th>affiliate_channel</th>\n",
       "      <th>affiliate_provider</th>\n",
       "      <th>first_affiliate_tracked</th>\n",
       "      <th>signup_app</th>\n",
       "      <th>first_device_type</th>\n",
       "      <th>first_browser</th>\n",
       "      <th>date_account_created_year</th>\n",
       "      <th>date_account_created_month</th>\n",
       "      <th>date_account_created_day</th>\n",
       "      <th>timestamp_first_active_year</th>\n",
       "      <th>timestamp_first_active_month</th>\n",
       "      <th>timestamp_first_active_day</th>\n",
       "    </tr>\n",
       "  </thead>\n",
       "  <tbody>\n",
       "    <tr>\n",
       "      <th>0</th>\n",
       "      <td>5uwns89zht</td>\n",
       "      <td>US</td>\n",
       "      <td>FEMALE</td>\n",
       "      <td>35.0</td>\n",
       "      <td>facebook</td>\n",
       "      <td>0</td>\n",
       "      <td>en</td>\n",
       "      <td>direct</td>\n",
       "      <td>direct</td>\n",
       "      <td>untracked</td>\n",
       "      <td>Moweb</td>\n",
       "      <td>iPhone</td>\n",
       "      <td>Mobile Safari</td>\n",
       "      <td>2014</td>\n",
       "      <td>7</td>\n",
       "      <td>1</td>\n",
       "      <td>2014</td>\n",
       "      <td>7</td>\n",
       "      <td>1</td>\n",
       "    </tr>\n",
       "    <tr>\n",
       "      <th>1</th>\n",
       "      <td>5uwns89zht</td>\n",
       "      <td>other</td>\n",
       "      <td>FEMALE</td>\n",
       "      <td>35.0</td>\n",
       "      <td>facebook</td>\n",
       "      <td>0</td>\n",
       "      <td>en</td>\n",
       "      <td>direct</td>\n",
       "      <td>direct</td>\n",
       "      <td>untracked</td>\n",
       "      <td>Moweb</td>\n",
       "      <td>iPhone</td>\n",
       "      <td>Mobile Safari</td>\n",
       "      <td>2014</td>\n",
       "      <td>7</td>\n",
       "      <td>1</td>\n",
       "      <td>2014</td>\n",
       "      <td>7</td>\n",
       "      <td>1</td>\n",
       "    </tr>\n",
       "    <tr>\n",
       "      <th>2</th>\n",
       "      <td>5uwns89zht</td>\n",
       "      <td>FR</td>\n",
       "      <td>FEMALE</td>\n",
       "      <td>35.0</td>\n",
       "      <td>facebook</td>\n",
       "      <td>0</td>\n",
       "      <td>en</td>\n",
       "      <td>direct</td>\n",
       "      <td>direct</td>\n",
       "      <td>untracked</td>\n",
       "      <td>Moweb</td>\n",
       "      <td>iPhone</td>\n",
       "      <td>Mobile Safari</td>\n",
       "      <td>2014</td>\n",
       "      <td>7</td>\n",
       "      <td>1</td>\n",
       "      <td>2014</td>\n",
       "      <td>7</td>\n",
       "      <td>1</td>\n",
       "    </tr>\n",
       "    <tr>\n",
       "      <th>3</th>\n",
       "      <td>5uwns89zht</td>\n",
       "      <td>ES</td>\n",
       "      <td>FEMALE</td>\n",
       "      <td>35.0</td>\n",
       "      <td>facebook</td>\n",
       "      <td>0</td>\n",
       "      <td>en</td>\n",
       "      <td>direct</td>\n",
       "      <td>direct</td>\n",
       "      <td>untracked</td>\n",
       "      <td>Moweb</td>\n",
       "      <td>iPhone</td>\n",
       "      <td>Mobile Safari</td>\n",
       "      <td>2014</td>\n",
       "      <td>7</td>\n",
       "      <td>1</td>\n",
       "      <td>2014</td>\n",
       "      <td>7</td>\n",
       "      <td>1</td>\n",
       "    </tr>\n",
       "    <tr>\n",
       "      <th>4</th>\n",
       "      <td>5uwns89zht</td>\n",
       "      <td>IT</td>\n",
       "      <td>FEMALE</td>\n",
       "      <td>35.0</td>\n",
       "      <td>facebook</td>\n",
       "      <td>0</td>\n",
       "      <td>en</td>\n",
       "      <td>direct</td>\n",
       "      <td>direct</td>\n",
       "      <td>untracked</td>\n",
       "      <td>Moweb</td>\n",
       "      <td>iPhone</td>\n",
       "      <td>Mobile Safari</td>\n",
       "      <td>2014</td>\n",
       "      <td>7</td>\n",
       "      <td>1</td>\n",
       "      <td>2014</td>\n",
       "      <td>7</td>\n",
       "      <td>1</td>\n",
       "    </tr>\n",
       "    <tr>\n",
       "      <th>5</th>\n",
       "      <td>jtl0dijy2j</td>\n",
       "      <td>US</td>\n",
       "      <td>NaN</td>\n",
       "      <td>30.0</td>\n",
       "      <td>basic</td>\n",
       "      <td>0</td>\n",
       "      <td>en</td>\n",
       "      <td>direct</td>\n",
       "      <td>direct</td>\n",
       "      <td>untracked</td>\n",
       "      <td>Moweb</td>\n",
       "      <td>iPhone</td>\n",
       "      <td>Mobile Safari</td>\n",
       "      <td>2014</td>\n",
       "      <td>7</td>\n",
       "      <td>1</td>\n",
       "      <td>2014</td>\n",
       "      <td>7</td>\n",
       "      <td>1</td>\n",
       "    </tr>\n",
       "    <tr>\n",
       "      <th>6</th>\n",
       "      <td>jtl0dijy2j</td>\n",
       "      <td>other</td>\n",
       "      <td>NaN</td>\n",
       "      <td>30.0</td>\n",
       "      <td>basic</td>\n",
       "      <td>0</td>\n",
       "      <td>en</td>\n",
       "      <td>direct</td>\n",
       "      <td>direct</td>\n",
       "      <td>untracked</td>\n",
       "      <td>Moweb</td>\n",
       "      <td>iPhone</td>\n",
       "      <td>Mobile Safari</td>\n",
       "      <td>2014</td>\n",
       "      <td>7</td>\n",
       "      <td>1</td>\n",
       "      <td>2014</td>\n",
       "      <td>7</td>\n",
       "      <td>1</td>\n",
       "    </tr>\n",
       "    <tr>\n",
       "      <th>7</th>\n",
       "      <td>jtl0dijy2j</td>\n",
       "      <td>FR</td>\n",
       "      <td>NaN</td>\n",
       "      <td>30.0</td>\n",
       "      <td>basic</td>\n",
       "      <td>0</td>\n",
       "      <td>en</td>\n",
       "      <td>direct</td>\n",
       "      <td>direct</td>\n",
       "      <td>untracked</td>\n",
       "      <td>Moweb</td>\n",
       "      <td>iPhone</td>\n",
       "      <td>Mobile Safari</td>\n",
       "      <td>2014</td>\n",
       "      <td>7</td>\n",
       "      <td>1</td>\n",
       "      <td>2014</td>\n",
       "      <td>7</td>\n",
       "      <td>1</td>\n",
       "    </tr>\n",
       "    <tr>\n",
       "      <th>8</th>\n",
       "      <td>jtl0dijy2j</td>\n",
       "      <td>GB</td>\n",
       "      <td>NaN</td>\n",
       "      <td>30.0</td>\n",
       "      <td>basic</td>\n",
       "      <td>0</td>\n",
       "      <td>en</td>\n",
       "      <td>direct</td>\n",
       "      <td>direct</td>\n",
       "      <td>untracked</td>\n",
       "      <td>Moweb</td>\n",
       "      <td>iPhone</td>\n",
       "      <td>Mobile Safari</td>\n",
       "      <td>2014</td>\n",
       "      <td>7</td>\n",
       "      <td>1</td>\n",
       "      <td>2014</td>\n",
       "      <td>7</td>\n",
       "      <td>1</td>\n",
       "    </tr>\n",
       "    <tr>\n",
       "      <th>9</th>\n",
       "      <td>jtl0dijy2j</td>\n",
       "      <td>ES</td>\n",
       "      <td>NaN</td>\n",
       "      <td>30.0</td>\n",
       "      <td>basic</td>\n",
       "      <td>0</td>\n",
       "      <td>en</td>\n",
       "      <td>direct</td>\n",
       "      <td>direct</td>\n",
       "      <td>untracked</td>\n",
       "      <td>Moweb</td>\n",
       "      <td>iPhone</td>\n",
       "      <td>Mobile Safari</td>\n",
       "      <td>2014</td>\n",
       "      <td>7</td>\n",
       "      <td>1</td>\n",
       "      <td>2014</td>\n",
       "      <td>7</td>\n",
       "      <td>1</td>\n",
       "    </tr>\n",
       "    <tr>\n",
       "      <th>10</th>\n",
       "      <td>xx0ulgorjt</td>\n",
       "      <td>US</td>\n",
       "      <td>NaN</td>\n",
       "      <td>30.0</td>\n",
       "      <td>basic</td>\n",
       "      <td>0</td>\n",
       "      <td>en</td>\n",
       "      <td>direct</td>\n",
       "      <td>direct</td>\n",
       "      <td>linked</td>\n",
       "      <td>Web</td>\n",
       "      <td>Windows Desktop</td>\n",
       "      <td>Chrome</td>\n",
       "      <td>2014</td>\n",
       "      <td>7</td>\n",
       "      <td>1</td>\n",
       "      <td>2014</td>\n",
       "      <td>7</td>\n",
       "      <td>1</td>\n",
       "    </tr>\n",
       "    <tr>\n",
       "      <th>11</th>\n",
       "      <td>xx0ulgorjt</td>\n",
       "      <td>other</td>\n",
       "      <td>NaN</td>\n",
       "      <td>30.0</td>\n",
       "      <td>basic</td>\n",
       "      <td>0</td>\n",
       "      <td>en</td>\n",
       "      <td>direct</td>\n",
       "      <td>direct</td>\n",
       "      <td>linked</td>\n",
       "      <td>Web</td>\n",
       "      <td>Windows Desktop</td>\n",
       "      <td>Chrome</td>\n",
       "      <td>2014</td>\n",
       "      <td>7</td>\n",
       "      <td>1</td>\n",
       "      <td>2014</td>\n",
       "      <td>7</td>\n",
       "      <td>1</td>\n",
       "    </tr>\n",
       "    <tr>\n",
       "      <th>12</th>\n",
       "      <td>xx0ulgorjt</td>\n",
       "      <td>ES</td>\n",
       "      <td>NaN</td>\n",
       "      <td>30.0</td>\n",
       "      <td>basic</td>\n",
       "      <td>0</td>\n",
       "      <td>en</td>\n",
       "      <td>direct</td>\n",
       "      <td>direct</td>\n",
       "      <td>linked</td>\n",
       "      <td>Web</td>\n",
       "      <td>Windows Desktop</td>\n",
       "      <td>Chrome</td>\n",
       "      <td>2014</td>\n",
       "      <td>7</td>\n",
       "      <td>1</td>\n",
       "      <td>2014</td>\n",
       "      <td>7</td>\n",
       "      <td>1</td>\n",
       "    </tr>\n",
       "    <tr>\n",
       "      <th>13</th>\n",
       "      <td>xx0ulgorjt</td>\n",
       "      <td>FR</td>\n",
       "      <td>NaN</td>\n",
       "      <td>30.0</td>\n",
       "      <td>basic</td>\n",
       "      <td>0</td>\n",
       "      <td>en</td>\n",
       "      <td>direct</td>\n",
       "      <td>direct</td>\n",
       "      <td>linked</td>\n",
       "      <td>Web</td>\n",
       "      <td>Windows Desktop</td>\n",
       "      <td>Chrome</td>\n",
       "      <td>2014</td>\n",
       "      <td>7</td>\n",
       "      <td>1</td>\n",
       "      <td>2014</td>\n",
       "      <td>7</td>\n",
       "      <td>1</td>\n",
       "    </tr>\n",
       "    <tr>\n",
       "      <th>14</th>\n",
       "      <td>xx0ulgorjt</td>\n",
       "      <td>IT</td>\n",
       "      <td>NaN</td>\n",
       "      <td>30.0</td>\n",
       "      <td>basic</td>\n",
       "      <td>0</td>\n",
       "      <td>en</td>\n",
       "      <td>direct</td>\n",
       "      <td>direct</td>\n",
       "      <td>linked</td>\n",
       "      <td>Web</td>\n",
       "      <td>Windows Desktop</td>\n",
       "      <td>Chrome</td>\n",
       "      <td>2014</td>\n",
       "      <td>7</td>\n",
       "      <td>1</td>\n",
       "      <td>2014</td>\n",
       "      <td>7</td>\n",
       "      <td>1</td>\n",
       "    </tr>\n",
       "    <tr>\n",
       "      <th>15</th>\n",
       "      <td>6c6puo6ix0</td>\n",
       "      <td>US</td>\n",
       "      <td>NaN</td>\n",
       "      <td>30.0</td>\n",
       "      <td>basic</td>\n",
       "      <td>0</td>\n",
       "      <td>en</td>\n",
       "      <td>direct</td>\n",
       "      <td>direct</td>\n",
       "      <td>linked</td>\n",
       "      <td>Web</td>\n",
       "      <td>Windows Desktop</td>\n",
       "      <td>IE</td>\n",
       "      <td>2014</td>\n",
       "      <td>7</td>\n",
       "      <td>1</td>\n",
       "      <td>2014</td>\n",
       "      <td>7</td>\n",
       "      <td>1</td>\n",
       "    </tr>\n",
       "    <tr>\n",
       "      <th>16</th>\n",
       "      <td>6c6puo6ix0</td>\n",
       "      <td>other</td>\n",
       "      <td>NaN</td>\n",
       "      <td>30.0</td>\n",
       "      <td>basic</td>\n",
       "      <td>0</td>\n",
       "      <td>en</td>\n",
       "      <td>direct</td>\n",
       "      <td>direct</td>\n",
       "      <td>linked</td>\n",
       "      <td>Web</td>\n",
       "      <td>Windows Desktop</td>\n",
       "      <td>IE</td>\n",
       "      <td>2014</td>\n",
       "      <td>7</td>\n",
       "      <td>1</td>\n",
       "      <td>2014</td>\n",
       "      <td>7</td>\n",
       "      <td>1</td>\n",
       "    </tr>\n",
       "    <tr>\n",
       "      <th>17</th>\n",
       "      <td>6c6puo6ix0</td>\n",
       "      <td>FR</td>\n",
       "      <td>NaN</td>\n",
       "      <td>30.0</td>\n",
       "      <td>basic</td>\n",
       "      <td>0</td>\n",
       "      <td>en</td>\n",
       "      <td>direct</td>\n",
       "      <td>direct</td>\n",
       "      <td>linked</td>\n",
       "      <td>Web</td>\n",
       "      <td>Windows Desktop</td>\n",
       "      <td>IE</td>\n",
       "      <td>2014</td>\n",
       "      <td>7</td>\n",
       "      <td>1</td>\n",
       "      <td>2014</td>\n",
       "      <td>7</td>\n",
       "      <td>1</td>\n",
       "    </tr>\n",
       "    <tr>\n",
       "      <th>18</th>\n",
       "      <td>6c6puo6ix0</td>\n",
       "      <td>ES</td>\n",
       "      <td>NaN</td>\n",
       "      <td>30.0</td>\n",
       "      <td>basic</td>\n",
       "      <td>0</td>\n",
       "      <td>en</td>\n",
       "      <td>direct</td>\n",
       "      <td>direct</td>\n",
       "      <td>linked</td>\n",
       "      <td>Web</td>\n",
       "      <td>Windows Desktop</td>\n",
       "      <td>IE</td>\n",
       "      <td>2014</td>\n",
       "      <td>7</td>\n",
       "      <td>1</td>\n",
       "      <td>2014</td>\n",
       "      <td>7</td>\n",
       "      <td>1</td>\n",
       "    </tr>\n",
       "    <tr>\n",
       "      <th>19</th>\n",
       "      <td>6c6puo6ix0</td>\n",
       "      <td>GB</td>\n",
       "      <td>NaN</td>\n",
       "      <td>30.0</td>\n",
       "      <td>basic</td>\n",
       "      <td>0</td>\n",
       "      <td>en</td>\n",
       "      <td>direct</td>\n",
       "      <td>direct</td>\n",
       "      <td>linked</td>\n",
       "      <td>Web</td>\n",
       "      <td>Windows Desktop</td>\n",
       "      <td>IE</td>\n",
       "      <td>2014</td>\n",
       "      <td>7</td>\n",
       "      <td>1</td>\n",
       "      <td>2014</td>\n",
       "      <td>7</td>\n",
       "      <td>1</td>\n",
       "    </tr>\n",
       "    <tr>\n",
       "      <th>20</th>\n",
       "      <td>czqhjk3yfe</td>\n",
       "      <td>US</td>\n",
       "      <td>NaN</td>\n",
       "      <td>30.0</td>\n",
       "      <td>basic</td>\n",
       "      <td>0</td>\n",
       "      <td>en</td>\n",
       "      <td>direct</td>\n",
       "      <td>direct</td>\n",
       "      <td>untracked</td>\n",
       "      <td>Web</td>\n",
       "      <td>Mac Desktop</td>\n",
       "      <td>Safari</td>\n",
       "      <td>2014</td>\n",
       "      <td>7</td>\n",
       "      <td>1</td>\n",
       "      <td>2014</td>\n",
       "      <td>7</td>\n",
       "      <td>1</td>\n",
       "    </tr>\n",
       "    <tr>\n",
       "      <th>21</th>\n",
       "      <td>czqhjk3yfe</td>\n",
       "      <td>other</td>\n",
       "      <td>NaN</td>\n",
       "      <td>30.0</td>\n",
       "      <td>basic</td>\n",
       "      <td>0</td>\n",
       "      <td>en</td>\n",
       "      <td>direct</td>\n",
       "      <td>direct</td>\n",
       "      <td>untracked</td>\n",
       "      <td>Web</td>\n",
       "      <td>Mac Desktop</td>\n",
       "      <td>Safari</td>\n",
       "      <td>2014</td>\n",
       "      <td>7</td>\n",
       "      <td>1</td>\n",
       "      <td>2014</td>\n",
       "      <td>7</td>\n",
       "      <td>1</td>\n",
       "    </tr>\n",
       "    <tr>\n",
       "      <th>22</th>\n",
       "      <td>czqhjk3yfe</td>\n",
       "      <td>FR</td>\n",
       "      <td>NaN</td>\n",
       "      <td>30.0</td>\n",
       "      <td>basic</td>\n",
       "      <td>0</td>\n",
       "      <td>en</td>\n",
       "      <td>direct</td>\n",
       "      <td>direct</td>\n",
       "      <td>untracked</td>\n",
       "      <td>Web</td>\n",
       "      <td>Mac Desktop</td>\n",
       "      <td>Safari</td>\n",
       "      <td>2014</td>\n",
       "      <td>7</td>\n",
       "      <td>1</td>\n",
       "      <td>2014</td>\n",
       "      <td>7</td>\n",
       "      <td>1</td>\n",
       "    </tr>\n",
       "    <tr>\n",
       "      <th>23</th>\n",
       "      <td>czqhjk3yfe</td>\n",
       "      <td>ES</td>\n",
       "      <td>NaN</td>\n",
       "      <td>30.0</td>\n",
       "      <td>basic</td>\n",
       "      <td>0</td>\n",
       "      <td>en</td>\n",
       "      <td>direct</td>\n",
       "      <td>direct</td>\n",
       "      <td>untracked</td>\n",
       "      <td>Web</td>\n",
       "      <td>Mac Desktop</td>\n",
       "      <td>Safari</td>\n",
       "      <td>2014</td>\n",
       "      <td>7</td>\n",
       "      <td>1</td>\n",
       "      <td>2014</td>\n",
       "      <td>7</td>\n",
       "      <td>1</td>\n",
       "    </tr>\n",
       "    <tr>\n",
       "      <th>24</th>\n",
       "      <td>czqhjk3yfe</td>\n",
       "      <td>GB</td>\n",
       "      <td>NaN</td>\n",
       "      <td>30.0</td>\n",
       "      <td>basic</td>\n",
       "      <td>0</td>\n",
       "      <td>en</td>\n",
       "      <td>direct</td>\n",
       "      <td>direct</td>\n",
       "      <td>untracked</td>\n",
       "      <td>Web</td>\n",
       "      <td>Mac Desktop</td>\n",
       "      <td>Safari</td>\n",
       "      <td>2014</td>\n",
       "      <td>7</td>\n",
       "      <td>1</td>\n",
       "      <td>2014</td>\n",
       "      <td>7</td>\n",
       "      <td>1</td>\n",
       "    </tr>\n",
       "  </tbody>\n",
       "</table>\n",
       "</div>"
      ],
      "text/plain": [
       "            id country  gender   age signup_method  signup_flow language  \\\n",
       "0   5uwns89zht      US  FEMALE  35.0      facebook            0       en   \n",
       "1   5uwns89zht   other  FEMALE  35.0      facebook            0       en   \n",
       "2   5uwns89zht      FR  FEMALE  35.0      facebook            0       en   \n",
       "3   5uwns89zht      ES  FEMALE  35.0      facebook            0       en   \n",
       "4   5uwns89zht      IT  FEMALE  35.0      facebook            0       en   \n",
       "5   jtl0dijy2j      US     NaN  30.0         basic            0       en   \n",
       "6   jtl0dijy2j   other     NaN  30.0         basic            0       en   \n",
       "7   jtl0dijy2j      FR     NaN  30.0         basic            0       en   \n",
       "8   jtl0dijy2j      GB     NaN  30.0         basic            0       en   \n",
       "9   jtl0dijy2j      ES     NaN  30.0         basic            0       en   \n",
       "10  xx0ulgorjt      US     NaN  30.0         basic            0       en   \n",
       "11  xx0ulgorjt   other     NaN  30.0         basic            0       en   \n",
       "12  xx0ulgorjt      ES     NaN  30.0         basic            0       en   \n",
       "13  xx0ulgorjt      FR     NaN  30.0         basic            0       en   \n",
       "14  xx0ulgorjt      IT     NaN  30.0         basic            0       en   \n",
       "15  6c6puo6ix0      US     NaN  30.0         basic            0       en   \n",
       "16  6c6puo6ix0   other     NaN  30.0         basic            0       en   \n",
       "17  6c6puo6ix0      FR     NaN  30.0         basic            0       en   \n",
       "18  6c6puo6ix0      ES     NaN  30.0         basic            0       en   \n",
       "19  6c6puo6ix0      GB     NaN  30.0         basic            0       en   \n",
       "20  czqhjk3yfe      US     NaN  30.0         basic            0       en   \n",
       "21  czqhjk3yfe   other     NaN  30.0         basic            0       en   \n",
       "22  czqhjk3yfe      FR     NaN  30.0         basic            0       en   \n",
       "23  czqhjk3yfe      ES     NaN  30.0         basic            0       en   \n",
       "24  czqhjk3yfe      GB     NaN  30.0         basic            0       en   \n",
       "\n",
       "   affiliate_channel affiliate_provider first_affiliate_tracked signup_app  \\\n",
       "0             direct             direct               untracked      Moweb   \n",
       "1             direct             direct               untracked      Moweb   \n",
       "2             direct             direct               untracked      Moweb   \n",
       "3             direct             direct               untracked      Moweb   \n",
       "4             direct             direct               untracked      Moweb   \n",
       "5             direct             direct               untracked      Moweb   \n",
       "6             direct             direct               untracked      Moweb   \n",
       "7             direct             direct               untracked      Moweb   \n",
       "8             direct             direct               untracked      Moweb   \n",
       "9             direct             direct               untracked      Moweb   \n",
       "10            direct             direct                  linked        Web   \n",
       "11            direct             direct                  linked        Web   \n",
       "12            direct             direct                  linked        Web   \n",
       "13            direct             direct                  linked        Web   \n",
       "14            direct             direct                  linked        Web   \n",
       "15            direct             direct                  linked        Web   \n",
       "16            direct             direct                  linked        Web   \n",
       "17            direct             direct                  linked        Web   \n",
       "18            direct             direct                  linked        Web   \n",
       "19            direct             direct                  linked        Web   \n",
       "20            direct             direct               untracked        Web   \n",
       "21            direct             direct               untracked        Web   \n",
       "22            direct             direct               untracked        Web   \n",
       "23            direct             direct               untracked        Web   \n",
       "24            direct             direct               untracked        Web   \n",
       "\n",
       "   first_device_type  first_browser  date_account_created_year  \\\n",
       "0             iPhone  Mobile Safari                       2014   \n",
       "1             iPhone  Mobile Safari                       2014   \n",
       "2             iPhone  Mobile Safari                       2014   \n",
       "3             iPhone  Mobile Safari                       2014   \n",
       "4             iPhone  Mobile Safari                       2014   \n",
       "5             iPhone  Mobile Safari                       2014   \n",
       "6             iPhone  Mobile Safari                       2014   \n",
       "7             iPhone  Mobile Safari                       2014   \n",
       "8             iPhone  Mobile Safari                       2014   \n",
       "9             iPhone  Mobile Safari                       2014   \n",
       "10   Windows Desktop         Chrome                       2014   \n",
       "11   Windows Desktop         Chrome                       2014   \n",
       "12   Windows Desktop         Chrome                       2014   \n",
       "13   Windows Desktop         Chrome                       2014   \n",
       "14   Windows Desktop         Chrome                       2014   \n",
       "15   Windows Desktop             IE                       2014   \n",
       "16   Windows Desktop             IE                       2014   \n",
       "17   Windows Desktop             IE                       2014   \n",
       "18   Windows Desktop             IE                       2014   \n",
       "19   Windows Desktop             IE                       2014   \n",
       "20       Mac Desktop         Safari                       2014   \n",
       "21       Mac Desktop         Safari                       2014   \n",
       "22       Mac Desktop         Safari                       2014   \n",
       "23       Mac Desktop         Safari                       2014   \n",
       "24       Mac Desktop         Safari                       2014   \n",
       "\n",
       "    date_account_created_month  date_account_created_day  \\\n",
       "0                            7                         1   \n",
       "1                            7                         1   \n",
       "2                            7                         1   \n",
       "3                            7                         1   \n",
       "4                            7                         1   \n",
       "5                            7                         1   \n",
       "6                            7                         1   \n",
       "7                            7                         1   \n",
       "8                            7                         1   \n",
       "9                            7                         1   \n",
       "10                           7                         1   \n",
       "11                           7                         1   \n",
       "12                           7                         1   \n",
       "13                           7                         1   \n",
       "14                           7                         1   \n",
       "15                           7                         1   \n",
       "16                           7                         1   \n",
       "17                           7                         1   \n",
       "18                           7                         1   \n",
       "19                           7                         1   \n",
       "20                           7                         1   \n",
       "21                           7                         1   \n",
       "22                           7                         1   \n",
       "23                           7                         1   \n",
       "24                           7                         1   \n",
       "\n",
       "    timestamp_first_active_year  timestamp_first_active_month  \\\n",
       "0                          2014                             7   \n",
       "1                          2014                             7   \n",
       "2                          2014                             7   \n",
       "3                          2014                             7   \n",
       "4                          2014                             7   \n",
       "5                          2014                             7   \n",
       "6                          2014                             7   \n",
       "7                          2014                             7   \n",
       "8                          2014                             7   \n",
       "9                          2014                             7   \n",
       "10                         2014                             7   \n",
       "11                         2014                             7   \n",
       "12                         2014                             7   \n",
       "13                         2014                             7   \n",
       "14                         2014                             7   \n",
       "15                         2014                             7   \n",
       "16                         2014                             7   \n",
       "17                         2014                             7   \n",
       "18                         2014                             7   \n",
       "19                         2014                             7   \n",
       "20                         2014                             7   \n",
       "21                         2014                             7   \n",
       "22                         2014                             7   \n",
       "23                         2014                             7   \n",
       "24                         2014                             7   \n",
       "\n",
       "    timestamp_first_active_day  \n",
       "0                            1  \n",
       "1                            1  \n",
       "2                            1  \n",
       "3                            1  \n",
       "4                            1  \n",
       "5                            1  \n",
       "6                            1  \n",
       "7                            1  \n",
       "8                            1  \n",
       "9                            1  \n",
       "10                           1  \n",
       "11                           1  \n",
       "12                           1  \n",
       "13                           1  \n",
       "14                           1  \n",
       "15                           1  \n",
       "16                           1  \n",
       "17                           1  \n",
       "18                           1  \n",
       "19                           1  \n",
       "20                           1  \n",
       "21                           1  \n",
       "22                           1  \n",
       "23                           1  \n",
       "24                           1  "
      ]
     },
     "execution_count": 75,
     "metadata": {},
     "output_type": "execute_result"
    }
   ],
   "source": [
    "pred_df_data.head(25)"
   ]
  },
  {
   "cell_type": "markdown",
   "metadata": {},
   "source": [
    "### How can AirBnB use these results?\n",
    "1. It can be used to send targeted ads to the users about popular vacation spots in the countries predicted for them. That will increase the chances of their booking.\n",
    "2. It can be used to understand the type of destinations users prefer and can be used to build a recommender system that will recommend users with similar other destinations.\n",
    "3. These predictions can help AirBnB expand their accomodation-base in places where there is a probability of huge influx of users. For eg. Suppose we have a huge number of users predicted to go to 'China', then AirBnB can expand their accomodation-base in China accordingly."
   ]
  }
 ],
 "metadata": {
  "kernelspec": {
   "display_name": "Python 3",
   "language": "python",
   "name": "python3"
  },
  "language_info": {
   "codemirror_mode": {
    "name": "ipython",
    "version": 3
   },
   "file_extension": ".py",
   "mimetype": "text/x-python",
   "name": "python",
   "nbconvert_exporter": "python",
   "pygments_lexer": "ipython3",
   "version": "3.9.7"
  }
 },
 "nbformat": 4,
 "nbformat_minor": 1
}
